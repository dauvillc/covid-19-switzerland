{
 "cells": [
  {
   "cell_type": "markdown",
   "metadata": {},
   "source": [
    "# Individual contact matrices from activities\n",
    "The objective in this part is to obtain, at least for a sample of the population, the number of daily contacts with other individuals. The contacts are split into groups depending on the type of activity in which the contact happened, as well as the age of the target person."
   ]
  },
  {
   "cell_type": "code",
   "execution_count": 2,
   "metadata": {},
   "outputs": [],
   "source": [
    "%matplotlib inline\n",
    "import pandas as pd\n",
    "import numpy as np\n",
    "import seaborn as sns\n",
    "import matplotlib.pyplot as plt\n",
    "import scipy.sparse as sparse"
   ]
  },
  {
   "cell_type": "markdown",
   "metadata": {},
   "source": [
    "## Loading data\n",
    "The dataframe ```data/matsim_population_activities.csv``` contains the list of all activities for each individual based on the MATSIM simulation."
   ]
  },
  {
   "cell_type": "code",
   "execution_count": 3,
   "metadata": {},
   "outputs": [
    {
     "data": {
      "text/html": [
       "<div>\n",
       "<style scoped>\n",
       "    .dataframe tbody tr th:only-of-type {\n",
       "        vertical-align: middle;\n",
       "    }\n",
       "\n",
       "    .dataframe tbody tr th {\n",
       "        vertical-align: top;\n",
       "    }\n",
       "\n",
       "    .dataframe thead th {\n",
       "        text-align: right;\n",
       "    }\n",
       "</style>\n",
       "<table border=\"1\" class=\"dataframe\">\n",
       "  <thead>\n",
       "    <tr style=\"text-align: right;\">\n",
       "      <th></th>\n",
       "      <th>id</th>\n",
       "      <th>type</th>\n",
       "      <th>facility</th>\n",
       "      <th>link</th>\n",
       "      <th>x</th>\n",
       "      <th>y</th>\n",
       "    </tr>\n",
       "  </thead>\n",
       "  <tbody>\n",
       "    <tr>\n",
       "      <th>0</th>\n",
       "      <td>100000</td>\n",
       "      <td>home</td>\n",
       "      <td>home40692</td>\n",
       "      <td>542062</td>\n",
       "      <td>2689459.0</td>\n",
       "      <td>1255462.0</td>\n",
       "    </tr>\n",
       "    <tr>\n",
       "      <th>1</th>\n",
       "      <td>100000</td>\n",
       "      <td>education</td>\n",
       "      <td>358532</td>\n",
       "      <td>184266</td>\n",
       "      <td>2689282.0</td>\n",
       "      <td>1255389.0</td>\n",
       "    </tr>\n",
       "    <tr>\n",
       "      <th>2</th>\n",
       "      <td>100000</td>\n",
       "      <td>home</td>\n",
       "      <td>home40692</td>\n",
       "      <td>542062</td>\n",
       "      <td>2689459.0</td>\n",
       "      <td>1255462.0</td>\n",
       "    </tr>\n",
       "    <tr>\n",
       "      <th>3</th>\n",
       "      <td>100000</td>\n",
       "      <td>education</td>\n",
       "      <td>484020</td>\n",
       "      <td>184266</td>\n",
       "      <td>2689282.0</td>\n",
       "      <td>1255389.0</td>\n",
       "    </tr>\n",
       "    <tr>\n",
       "      <th>4</th>\n",
       "      <td>100000</td>\n",
       "      <td>home</td>\n",
       "      <td>home40692</td>\n",
       "      <td>542062</td>\n",
       "      <td>2689459.0</td>\n",
       "      <td>1255462.0</td>\n",
       "    </tr>\n",
       "    <tr>\n",
       "      <th>5</th>\n",
       "      <td>100000</td>\n",
       "      <td>shop</td>\n",
       "      <td>601754</td>\n",
       "      <td>355392</td>\n",
       "      <td>2689600.0</td>\n",
       "      <td>1255500.0</td>\n",
       "    </tr>\n",
       "    <tr>\n",
       "      <th>6</th>\n",
       "      <td>100000</td>\n",
       "      <td>home</td>\n",
       "      <td>home40692</td>\n",
       "      <td>542062</td>\n",
       "      <td>2689459.0</td>\n",
       "      <td>1255462.0</td>\n",
       "    </tr>\n",
       "    <tr>\n",
       "      <th>7</th>\n",
       "      <td>100000</td>\n",
       "      <td>shop</td>\n",
       "      <td>125790</td>\n",
       "      <td>355330</td>\n",
       "      <td>2689674.0</td>\n",
       "      <td>1255464.0</td>\n",
       "    </tr>\n",
       "    <tr>\n",
       "      <th>8</th>\n",
       "      <td>100000</td>\n",
       "      <td>home</td>\n",
       "      <td>home40692</td>\n",
       "      <td>542062</td>\n",
       "      <td>2689459.0</td>\n",
       "      <td>1255462.0</td>\n",
       "    </tr>\n",
       "    <tr>\n",
       "      <th>9</th>\n",
       "      <td>1000005</td>\n",
       "      <td>home</td>\n",
       "      <td>home422688</td>\n",
       "      <td>61971</td>\n",
       "      <td>2700184.0</td>\n",
       "      <td>1259308.0</td>\n",
       "    </tr>\n",
       "  </tbody>\n",
       "</table>\n",
       "</div>"
      ],
      "text/plain": [
       "        id       type    facility    link          x          y\n",
       "0   100000       home   home40692  542062  2689459.0  1255462.0\n",
       "1   100000  education      358532  184266  2689282.0  1255389.0\n",
       "2   100000       home   home40692  542062  2689459.0  1255462.0\n",
       "3   100000  education      484020  184266  2689282.0  1255389.0\n",
       "4   100000       home   home40692  542062  2689459.0  1255462.0\n",
       "5   100000       shop      601754  355392  2689600.0  1255500.0\n",
       "6   100000       home   home40692  542062  2689459.0  1255462.0\n",
       "7   100000       shop      125790  355330  2689674.0  1255464.0\n",
       "8   100000       home   home40692  542062  2689459.0  1255462.0\n",
       "9  1000005       home  home422688   61971  2700184.0  1259308.0"
      ]
     },
     "execution_count": 3,
     "metadata": {},
     "output_type": "execute_result"
    }
   ],
   "source": [
    "activities_df = pd.read_csv('../data/matsim_population_activities.csv')\n",
    "activities_df.head(10)"
   ]
  },
  {
   "cell_type": "markdown",
   "metadata": {},
   "source": [
    "Let's have a look at how many unique values each column contains:"
   ]
  },
  {
   "cell_type": "code",
   "execution_count": 4,
   "metadata": {},
   "outputs": [
    {
     "data": {
      "image/png": "[encoded data removed]",
      "text/plain": [
       "<Figure size 432x288 with 1 Axes>"
      ]
     },
     "metadata": {
      "needs_background": "light"
     },
     "output_type": "display_data"
    }
   ],
   "source": [
    "unique_values_counts = pd.Series({col: activities_df[col].drop_duplicates().shape[0] for col in activities_df.columns})\n",
    "sns.barplot(x=unique_values_counts.index, y=unique_values_counts.values, log=True)\n",
    "plt.title('Number of unique values')\n",
    "plt.show()"
   ]
  },
  {
   "cell_type": "markdown",
   "metadata": {},
   "source": [
    "## Who met who ?\n",
    "The problem is the following: given an individual $I\\in P$, can we efficiently find the set of all individuals $I$ has been in contact\n",
    "with during the day ?   \n",
    "\"Being in contact\" here means visiting a common facility at least once.\n",
    "\n",
    "The naive way to do this would be to obtain the list of all facilities $I$ visited, and then for all such facilities check for every other person\n",
    "whether they have visited it. However this obliges to browse the activities of every other individual, so the total complexity is $O(A)$  \n",
    "where $A$ is the number of total activities recorded. Now, we need to do this for every person in a sampled population (let's say at least 100000 people).\n",
    "Considering $A \\approx$ 10 million, this method isn't tractable.\n",
    "\n",
    "Another method is to use a *presence matrix*: a matrix $M$ of shape $(|P|, N_{facilities})$ such that for any individual $i$ and facility $f$, $M_{i,f} =$ 1 if $i$ visited $f$ and 0 otherwise. Given the number of people in the population and the number of unique facilities, we'd never store the full matrix in memory.\n",
    "However any person only visits a small number of facilities during the day (how many places do you visit in a single day ? Probably much fewer than a hundred). Thus $M$ is extremely **sparse** and can be efficiently stored using the CSR and CSC formats.  \n",
    "\n",
    "Once $M$ is created under *both* CSR and CSC formats, we can retrieve the list of the people an individual $i$ met in the following manner:\n",
    "* Retrieve the non-zero indices of row $i$ in the CSR matrix - those give which facilities $i$ visited.\n",
    "* For each facility f:\n",
    "* Retrieve the non-zero indices in col $f$ in the CSC matrix - those give which people visited $f$ during the day\n",
    "* Compile the list of all people indices retrieved as such.  \n",
    "\n",
    "Note that the final list will contain duplicates, and especially will include $i$ (since $i$ visited the same facilities as $i$..).  \n",
    "For a single individual, retrieving the list of all contacts in this way is done in **constant time** $O(1)$.\n",
    "\n",
    "**Remark**: the reason we use both CSR and CSC format is because we need to retrieve both rows and columns of the presence matrix. Each of those format allows to done one of those in constant time."
   ]
  },
  {
   "cell_type": "code",
   "execution_count": 5,
   "metadata": {},
   "outputs": [],
   "source": [
    "# We'll need to remove the rows in which the facility is null\n",
    "activities_df = activities_df[activities_df['facility'].notna()]"
   ]
  },
  {
   "cell_type": "code",
   "execution_count": 6,
   "metadata": {},
   "outputs": [],
   "source": [
    "# The facilities names are strings (such as 'home40692'), but the matrix indices\n",
    "# will be integers starting at 0.\n",
    "# Therefore we need to create an association between facility name and matrix\n",
    "# column indices. This association is stored in a dictionnary facilities_dict.\n",
    "unique_facilities = activities_df['facility'].drop_duplicates()\n",
    "facilities_dict = {facility: index for index, facility in enumerate(unique_facilities)}\n",
    "number_of_facilities = len(facilities_dict)"
   ]
  },
  {
   "cell_type": "code",
   "execution_count": 7,
   "metadata": {},
   "outputs": [],
   "source": [
    "# The people IDs are not strings but are not sorted and not continuous\n",
    "# (especially, they don't begin at 0). Thus we'll also create an association\n",
    "# person ID --> matrix row index\n",
    "unique_ids = activities_df['id'].drop_duplicates()\n",
    "ids_dict = {person_id: index for index, person_id in enumerate(unique_ids)}\n",
    "number_of_ids = len(ids_dict)"
   ]
  },
  {
   "cell_type": "code",
   "execution_count": 8,
   "metadata": {},
   "outputs": [],
   "source": [
    "# To create the sparse matrix, we need to rows and columns of each non-zero elements\n",
    "# This corresponds to obtaining the 'id' and 'facility' columns in the activities dataframe,\n",
    "# and replacing the names with the associated indexes.\n",
    "ids_indexes = np.array(activities_df['id'].apply(lambda person_id: ids_dict[person_id]))\n",
    "facility_indexes = np.array(activities_df['facility'].apply(lambda facility: facilities_dict[facility]))"
   ]
  },
  {
   "cell_type": "code",
   "execution_count": 82,
   "metadata": {},
   "outputs": [],
   "source": [
    "# Creates the sparse matrices with the same data but under different formats\n",
    "# See scipy's documentation for details\n",
    "presence_matrix_csc = sparse.csc_matrix((np.full(activities_df.shape[0], 1), (ids_indexes, facility_indexes)))\n",
    "presence_matrix_csr = sparse.csr_matrix(presence_matrix_csc)"
   ]
  },
  {
   "cell_type": "code",
   "execution_count": 13,
   "metadata": {},
   "outputs": [
    {
     "data": {
      "text/plain": [
       "(2100000, 1392168)"
      ]
     },
     "execution_count": 13,
     "metadata": {},
     "output_type": "execute_result"
    }
   ],
   "source": [
    "presence_matrix_csr.shape"
   ]
  },
  {
   "cell_type": "code",
   "execution_count": 91,
   "metadata": {},
   "outputs": [],
   "source": [
    "def find_contacts(person_id):\n",
    "    \"\"\"\n",
    "    Returns the IDs of all people a person met during\n",
    "    the day.\n",
    "    :person_id: int64, ID of the person who's contacts should be\n",
    "        retrieved.\n",
    "    :return: C, F where:\n",
    "        - C is the list of IDs of all contacts over a day\n",
    "        - F is the list of facility names at which each contact happened\n",
    "        For example, C=[10003] F=[\"home4095\"] means a single contact happened\n",
    "        with person 10,003, at facility \"home4095\".\n",
    "        The final list most likely contains duplicates and includes in the\n",
    "        contacts person_id themselves.\n",
    "    \"\"\"\n",
    "    # Retrieves the person's index in the presence matrix's\n",
    "    # rows\n",
    "    person_indx = ids_dict[person_id]\n",
    "    # Retrieves the indexes in the presence matrix's columns\n",
    "    # of the facilities the person visited\n",
    "    activ_indexes = presence_matrix_csr[person_indx].indices\n",
    "    \n",
    "    # Will contain the indexes of all contacts\n",
    "    contacts_indexes = []\n",
    "    # Will contain the indexes of the facilities at which the contacts happened\n",
    "    facilities_indxs = []\n",
    "    for activ_indx in activ_indexes:\n",
    "        # For each facility F\n",
    "        # Retrieves the indexes in the presence matrix's column\n",
    "        # corresponding to F\n",
    "        # of the people who were at F at least once\n",
    "        # during the day (i.e. non-zero elements of column F)\n",
    "        new_contacts = list(presence_matrix_csc[:, activ_indx].indices)\n",
    "        contacts_indexes += new_contacts\n",
    "        facilities_indxs += [activ_indx for _  in new_contacts]\n",
    "    return (np.array([unique_ids.iloc[indx] for indx in contacts_indexes]),\n",
    "            np.array([unique_facilities.iloc[indx] for indx in facilities_indxs]))"
   ]
  },
  {
   "cell_type": "markdown",
   "metadata": {},
   "source": [
    "## Building the contact matrix\n",
    "The first step is to obtain for a sample of the population the list of all contacts as well as where (in which facility) they took place."
   ]
  },
  {
   "cell_type": "code",
   "execution_count": 98,
   "metadata": {},
   "outputs": [],
   "source": [
    "sample_ids = activities_df['id'].sample(10000)"
   ]
  },
  {
   "cell_type": "code",
   "execution_count": 99,
   "metadata": {},
   "outputs": [],
   "source": [
    "all_contacts, all_facilities, all_ids = [], [], []\n",
    "for person_id in sample_ids:\n",
    "    contacts, facilities = find_contacts(person_id)\n",
    "    all_contacts.append(contacts)\n",
    "    all_facilities.append(facilities)\n",
    "    all_ids.append([person_id for _ in contacts])"
   ]
  },
  {
   "cell_type": "code",
   "execution_count": 103,
   "metadata": {},
   "outputs": [],
   "source": [
    "contact_dataframe = pd.DataFrame({'id': np.concatenate(all_ids),\n",
    "                                  'contact_id': np.concatenate(all_contacts),\n",
    "                                  'facility': np.concatenate(all_facilities)})"
   ]
  },
  {
   "cell_type": "code",
   "execution_count": 146,
   "metadata": {},
   "outputs": [
    {
     "data": {
      "text/html": [
       "<div>\n",
       "<style scoped>\n",
       "    .dataframe tbody tr th:only-of-type {\n",
       "        vertical-align: middle;\n",
       "    }\n",
       "\n",
       "    .dataframe tbody tr th {\n",
       "        vertical-align: top;\n",
       "    }\n",
       "\n",
       "    .dataframe thead th {\n",
       "        text-align: right;\n",
       "    }\n",
       "</style>\n",
       "<table border=\"1\" class=\"dataframe\">\n",
       "  <thead>\n",
       "    <tr style=\"text-align: right;\">\n",
       "      <th></th>\n",
       "      <th>id</th>\n",
       "      <th>contact_id</th>\n",
       "      <th>facility</th>\n",
       "    </tr>\n",
       "  </thead>\n",
       "  <tbody>\n",
       "    <tr>\n",
       "      <th>0</th>\n",
       "      <td>7354444</td>\n",
       "      <td>1323476</td>\n",
       "      <td>442543</td>\n",
       "    </tr>\n",
       "    <tr>\n",
       "      <th>1</th>\n",
       "      <td>7354444</td>\n",
       "      <td>1574495</td>\n",
       "      <td>442543</td>\n",
       "    </tr>\n",
       "    <tr>\n",
       "      <th>2</th>\n",
       "      <td>7354444</td>\n",
       "      <td>1674716</td>\n",
       "      <td>442543</td>\n",
       "    </tr>\n",
       "    <tr>\n",
       "      <th>3</th>\n",
       "      <td>7354444</td>\n",
       "      <td>2150371</td>\n",
       "      <td>442543</td>\n",
       "    </tr>\n",
       "    <tr>\n",
       "      <th>4</th>\n",
       "      <td>7354444</td>\n",
       "      <td>2151176</td>\n",
       "      <td>442543</td>\n",
       "    </tr>\n",
       "    <tr>\n",
       "      <th>...</th>\n",
       "      <td>...</td>\n",
       "      <td>...</td>\n",
       "      <td>...</td>\n",
       "    </tr>\n",
       "    <tr>\n",
       "      <th>1459538</th>\n",
       "      <td>112964</td>\n",
       "      <td>159029</td>\n",
       "      <td>595554</td>\n",
       "    </tr>\n",
       "    <tr>\n",
       "      <th>1459539</th>\n",
       "      <td>112964</td>\n",
       "      <td>1612352</td>\n",
       "      <td>595554</td>\n",
       "    </tr>\n",
       "    <tr>\n",
       "      <th>1459540</th>\n",
       "      <td>112964</td>\n",
       "      <td>175073</td>\n",
       "      <td>595554</td>\n",
       "    </tr>\n",
       "    <tr>\n",
       "      <th>1459541</th>\n",
       "      <td>112964</td>\n",
       "      <td>1829673</td>\n",
       "      <td>595554</td>\n",
       "    </tr>\n",
       "    <tr>\n",
       "      <th>1459542</th>\n",
       "      <td>112964</td>\n",
       "      <td>1831584</td>\n",
       "      <td>595554</td>\n",
       "    </tr>\n",
       "  </tbody>\n",
       "</table>\n",
       "<p>1459543 rows × 3 columns</p>\n",
       "</div>"
      ],
      "text/plain": [
       "              id  contact_id facility\n",
       "0        7354444     1323476   442543\n",
       "1        7354444     1574495   442543\n",
       "2        7354444     1674716   442543\n",
       "3        7354444     2150371   442543\n",
       "4        7354444     2151176   442543\n",
       "...          ...         ...      ...\n",
       "1459538   112964      159029   595554\n",
       "1459539   112964     1612352   595554\n",
       "1459540   112964      175073   595554\n",
       "1459541   112964     1829673   595554\n",
       "1459542   112964     1831584   595554\n",
       "\n",
       "[1459543 rows x 3 columns]"
      ]
     },
     "execution_count": 146,
     "metadata": {},
     "output_type": "execute_result"
    }
   ],
   "source": [
    "contact_dataframe.iloc[:-20]"
   ]
  },
  {
   "cell_type": "markdown",
   "metadata": {},
   "source": [
    "What we wanna do now is:\n",
    "* Replace the contact ids with the age of the contacts\n",
    "* Replace the facility names with their activity types  \n",
    "\n",
    "While each person has a unique age, facilities might be of multiple types."
   ]
  },
  {
   "cell_type": "code",
   "execution_count": 183,
   "metadata": {},
   "outputs": [],
   "source": [
    "facilities_types = activities_df[['facility', 'type']]"
   ]
  },
  {
   "cell_type": "code",
   "execution_count": 168,
   "metadata": {},
   "outputs": [
    {
     "data": {
      "text/plain": [
       "array([[<AxesSubplot:title={'center':'type'}>]], dtype=object)"
      ]
     },
     "execution_count": 168,
     "metadata": {},
     "output_type": "execute_result"
    },
    {
     "data": {
      "image/png": "[encoded data removed]",
      "text/plain": [
       "<Figure size 432x288 with 1 Axes>"
      ]
     },
     "metadata": {
      "needs_background": "light"
     },
     "output_type": "display_data"
    }
   ],
   "source": [
    "nb_types = facilities_types.groupby('facility').count()\n",
    "nb_types.hist()"
   ]
  },
  {
   "cell_type": "markdown",
   "metadata": {},
   "source": [
    "Some facilities (about 200,000) are counted into 2 or 3 types.  \n",
    "For facilities that are counted multiple times, we'll chose the types in which they are most often represented. For example, if the facility is a school listed in 3 activities, once as 'work' (by a teacher) and twice as 'education' (by students) then the facility will **always** be considered as \"education\".  \n",
    "This reasoning creates a proportion of mistakes, such as teachers going to school for an \"educational\" activity. Nonetheless this method has the advantage of being possible to do in practice regarding computation time."
   ]
  },
  {
   "cell_type": "code",
   "execution_count": 197,
   "metadata": {},
   "outputs": [
    {
     "data": {
      "text/html": [
       "<div>\n",
       "<style scoped>\n",
       "    .dataframe tbody tr th:only-of-type {\n",
       "        vertical-align: middle;\n",
       "    }\n",
       "\n",
       "    .dataframe tbody tr th {\n",
       "        vertical-align: top;\n",
       "    }\n",
       "\n",
       "    .dataframe thead th {\n",
       "        text-align: right;\n",
       "    }\n",
       "</style>\n",
       "<table border=\"1\" class=\"dataframe\">\n",
       "  <thead>\n",
       "    <tr style=\"text-align: right;\">\n",
       "      <th></th>\n",
       "      <th>facility</th>\n",
       "      <th>type</th>\n",
       "      <th>0</th>\n",
       "    </tr>\n",
       "  </thead>\n",
       "  <tbody>\n",
       "    <tr>\n",
       "      <th>627784</th>\n",
       "      <td>home999999</td>\n",
       "      <td>home</td>\n",
       "      <td>5</td>\n",
       "    </tr>\n",
       "    <tr>\n",
       "      <th>711581</th>\n",
       "      <td>home999995</td>\n",
       "      <td>home</td>\n",
       "      <td>4</td>\n",
       "    </tr>\n",
       "    <tr>\n",
       "      <th>1115314</th>\n",
       "      <td>home999989</td>\n",
       "      <td>home</td>\n",
       "      <td>2</td>\n",
       "    </tr>\n",
       "    <tr>\n",
       "      <th>433814</th>\n",
       "      <td>home999987</td>\n",
       "      <td>home</td>\n",
       "      <td>6</td>\n",
       "    </tr>\n",
       "    <tr>\n",
       "      <th>711583</th>\n",
       "      <td>home999986</td>\n",
       "      <td>home</td>\n",
       "      <td>4</td>\n",
       "    </tr>\n",
       "  </tbody>\n",
       "</table>\n",
       "</div>"
      ],
      "text/plain": [
       "           facility  type  0\n",
       "627784   home999999  home  5\n",
       "711581   home999995  home  4\n",
       "1115314  home999989  home  2\n",
       "433814   home999987  home  6\n",
       "711583   home999986  home  4"
      ]
     },
     "execution_count": 197,
     "metadata": {},
     "output_type": "execute_result"
    }
   ],
   "source": [
    "# Counts the occurences of each (facility, activity type) pair in the activities,\n",
    "# and sort them by facility and then by type count\n",
    "fac_types_counts = facilities_types.value_counts().reset_index().sort_values(['facility', 0], ascending=False)\n",
    "fac_types_counts.head()"
   ]
  },
  {
   "cell_type": "code",
   "execution_count": 202,
   "metadata": {},
   "outputs": [
    {
     "data": {
      "text/html": [
       "<div>\n",
       "<style scoped>\n",
       "    .dataframe tbody tr th:only-of-type {\n",
       "        vertical-align: middle;\n",
       "    }\n",
       "\n",
       "    .dataframe tbody tr th {\n",
       "        vertical-align: top;\n",
       "    }\n",
       "\n",
       "    .dataframe thead th {\n",
       "        text-align: right;\n",
       "    }\n",
       "</style>\n",
       "<table border=\"1\" class=\"dataframe\">\n",
       "  <thead>\n",
       "    <tr style=\"text-align: right;\">\n",
       "      <th></th>\n",
       "      <th>type</th>\n",
       "    </tr>\n",
       "    <tr>\n",
       "      <th>facility</th>\n",
       "      <th></th>\n",
       "    </tr>\n",
       "  </thead>\n",
       "  <tbody>\n",
       "    <tr>\n",
       "      <th>1</th>\n",
       "      <td>service</td>\n",
       "    </tr>\n",
       "    <tr>\n",
       "      <th>10</th>\n",
       "      <td>service</td>\n",
       "    </tr>\n",
       "    <tr>\n",
       "      <th>100</th>\n",
       "      <td>service</td>\n",
       "    </tr>\n",
       "    <tr>\n",
       "      <th>1000</th>\n",
       "      <td>work</td>\n",
       "    </tr>\n",
       "    <tr>\n",
       "      <th>10000</th>\n",
       "      <td>service</td>\n",
       "    </tr>\n",
       "  </tbody>\n",
       "</table>\n",
       "</div>"
      ],
      "text/plain": [
       "             type\n",
       "facility         \n",
       "1         service\n",
       "10        service\n",
       "100       service\n",
       "1000         work\n",
       "10000     service"
      ]
     },
     "execution_count": 202,
     "metadata": {},
     "output_type": "execute_result"
    }
   ],
   "source": [
    "# For facility, selects the pair (facility, type) that occurs most times\n",
    "final_fac_types = fac_types_counts.groupby('facility').first().reset_index()[['facility', 'type']].set_index('facility')\n",
    "final_fac_types.head()"
   ]
  },
  {
   "cell_type": "code",
   "execution_count": 203,
   "metadata": {},
   "outputs": [],
   "source": [
    "def get_facility_type(facility):\n",
    "    \"\"\"\n",
    "    For a given facility name, returns its activity type.\n",
    "    \"\"\"\n",
    "    return final_fac_types.loc[facility]"
   ]
  },
  {
   "cell_type": "code",
   "execution_count": 206,
   "metadata": {},
   "outputs": [],
   "source": [
    "contact_dataframe['type'] = contact_dataframe['facility'].apply(get_facility_type)"
   ]
  },
  {
   "cell_type": "code",
   "execution_count": 208,
   "metadata": {},
   "outputs": [
    {
     "data": {
      "text/html": [
       "<div>\n",
       "<style scoped>\n",
       "    .dataframe tbody tr th:only-of-type {\n",
       "        vertical-align: middle;\n",
       "    }\n",
       "\n",
       "    .dataframe tbody tr th {\n",
       "        vertical-align: top;\n",
       "    }\n",
       "\n",
       "    .dataframe thead th {\n",
       "        text-align: right;\n",
       "    }\n",
       "</style>\n",
       "<table border=\"1\" class=\"dataframe\">\n",
       "  <thead>\n",
       "    <tr style=\"text-align: right;\">\n",
       "      <th></th>\n",
       "      <th>id</th>\n",
       "      <th>contact_id</th>\n",
       "      <th>facility</th>\n",
       "      <th>type</th>\n",
       "    </tr>\n",
       "  </thead>\n",
       "  <tbody>\n",
       "    <tr>\n",
       "      <th>290443</th>\n",
       "      <td>3258005</td>\n",
       "      <td>3607330</td>\n",
       "      <td>313103</td>\n",
       "      <td>shop</td>\n",
       "    </tr>\n",
       "    <tr>\n",
       "      <th>1297045</th>\n",
       "      <td>7105146</td>\n",
       "      <td>7335848</td>\n",
       "      <td>379845</td>\n",
       "      <td>education</td>\n",
       "    </tr>\n",
       "    <tr>\n",
       "      <th>120519</th>\n",
       "      <td>558798</td>\n",
       "      <td>599101</td>\n",
       "      <td>579709</td>\n",
       "      <td>leisure</td>\n",
       "    </tr>\n",
       "    <tr>\n",
       "      <th>867932</th>\n",
       "      <td>3777421</td>\n",
       "      <td>3776649</td>\n",
       "      <td>656062</td>\n",
       "      <td>leisure</td>\n",
       "    </tr>\n",
       "    <tr>\n",
       "      <th>1449446</th>\n",
       "      <td>4787470</td>\n",
       "      <td>4791558</td>\n",
       "      <td>85413</td>\n",
       "      <td>leisure</td>\n",
       "    </tr>\n",
       "    <tr>\n",
       "      <th>834399</th>\n",
       "      <td>7352552</td>\n",
       "      <td>6917662</td>\n",
       "      <td>298615</td>\n",
       "      <td>work</td>\n",
       "    </tr>\n",
       "    <tr>\n",
       "      <th>695728</th>\n",
       "      <td>6980743</td>\n",
       "      <td>6908958</td>\n",
       "      <td>196609</td>\n",
       "      <td>leisure</td>\n",
       "    </tr>\n",
       "    <tr>\n",
       "      <th>986624</th>\n",
       "      <td>6730711</td>\n",
       "      <td>4285672</td>\n",
       "      <td>511794</td>\n",
       "      <td>shop</td>\n",
       "    </tr>\n",
       "    <tr>\n",
       "      <th>707078</th>\n",
       "      <td>8019781</td>\n",
       "      <td>7820397</td>\n",
       "      <td>533712</td>\n",
       "      <td>leisure</td>\n",
       "    </tr>\n",
       "    <tr>\n",
       "      <th>182095</th>\n",
       "      <td>6223984</td>\n",
       "      <td>6340516</td>\n",
       "      <td>650481</td>\n",
       "      <td>leisure</td>\n",
       "    </tr>\n",
       "  </tbody>\n",
       "</table>\n",
       "</div>"
      ],
      "text/plain": [
       "              id  contact_id facility       type\n",
       "290443   3258005     3607330   313103       shop\n",
       "1297045  7105146     7335848   379845  education\n",
       "120519    558798      599101   579709    leisure\n",
       "867932   3777421     3776649   656062    leisure\n",
       "1449446  4787470     4791558    85413    leisure\n",
       "834399   7352552     6917662   298615       work\n",
       "695728   6980743     6908958   196609    leisure\n",
       "986624   6730711     4285672   511794       shop\n",
       "707078   8019781     7820397   533712    leisure\n",
       "182095   6223984     6340516   650481    leisure"
      ]
     },
     "execution_count": 208,
     "metadata": {},
     "output_type": "execute_result"
    }
   ],
   "source": [
    "contact_dataframe.sample(10)"
   ]
  }
 ],
 "metadata": {
  "kernelspec": {
   "display_name": "Python 3",
   "language": "python",
   "name": "python3"
  },
  "language_info": {
   "codemirror_mode": {
    "name": "ipython",
    "version": 3
   },
   "file_extension": ".py",
   "mimetype": "text/x-python",
   "name": "python",
   "nbconvert_exporter": "python",
   "pygments_lexer": "ipython3",
   "version": "3.8.5"
  }
 },
 "nbformat": 4,
 "nbformat_minor": 4
}
