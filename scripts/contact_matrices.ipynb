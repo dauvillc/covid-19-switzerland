{
 "cells": [
  {
   "cell_type": "markdown",
   "metadata": {},
   "source": [
    "# Individual contact matrices from activities\n",
    "The objective in this part is to obtain, at least for a sample of the population, the number of daily contacts with other individuals. The contacts are split into groups depending on the type of activity in which the contact happened, as well as the age of the target person."
   ]
  },
  {
   "cell_type": "code",
   "execution_count": null,
   "metadata": {},
   "outputs": [],
   "source": [
    "%matplotlib inline\n",
    "import pandas as pd\n",
    "import numpy as np\n",
    "import seaborn as sns\n",
    "import matplotlib.pyplot as plt\n",
    "import scipy.sparse as sparse\n",
    "import sklearn\n",
    "from tqdm.notebook import tqdm\n",
    "from time import time"
   ]
  },
  {
   "cell_type": "markdown",
   "metadata": {},
   "source": [
    "## Loading data\n",
    "The dataframe ```data/matsim_population_activities.csv``` contains the list of all activities for each individual based on the MATSIM simulation."
   ]
  },
  {
   "cell_type": "code",
   "execution_count": null,
   "metadata": {},
   "outputs": [],
   "source": [
    "activities_df = pd.read_csv('../data/matsim_population_activities.csv')\n",
    "activities_df.head(10)"
   ]
  },
  {
   "cell_type": "markdown",
   "metadata": {},
   "source": [
    "Let's have a look at how many unique values each column contains:"
   ]
  },
  {
   "cell_type": "code",
   "execution_count": null,
   "metadata": {},
   "outputs": [],
   "source": [
    "unique_values_counts = pd.Series({col: activities_df[col].drop_duplicates().shape[0] for col in activities_df.columns})\n",
    "sns.barplot(x=unique_values_counts.index, y=unique_values_counts.values, log=True)\n",
    "plt.title('Number of unique values')\n",
    "plt.show()"
   ]
  },
  {
   "cell_type": "markdown",
   "metadata": {},
   "source": [
    "## Who met who ?\n",
    "The problem is the following: given an individual $I\\in P$, can we efficiently find the set of all individuals $I$ has been in contact\n",
    "with during the day ?   \n",
    "\"Being in contact\" here means visiting a common facility at least once.\n",
    "\n",
    "The naive way to do this would be to obtain the list of all facilities $I$ visited, and then for all such facilities check for every other person\n",
    "whether they have visited it. However this obliges to browse the activities of every other individual, so the total complexity is $O(A)$  \n",
    "where $A$ is the number of total activities recorded. Now, we need to do this for every person in a sampled population (let's say at least 100000 people).\n",
    "Considering $A \\approx$ 10 million, this method isn't tractable.\n",
    "\n",
    "Another method is to use a *presence matrix*: a matrix $M$ of shape $(|P|, N_{facilities})$ such that for any individual $i$ and facility $f$, $M_{i,f} =$ 1 if $i$ visited $f$ and 0 otherwise. Given the number of people in the population and the number of unique facilities, we'd never store the full matrix in memory.\n",
    "However any person only visits a small number of facilities during the day (how many places do you visit in a single day ? Probably much fewer than a hundred). Thus $M$ is extremely **sparse** and can be efficiently stored using the CSR and CSC formats.  \n",
    "\n",
    "Once $M$ is created under *both* CSR and CSC formats, we can retrieve the list of the people an individual $i$ met in the following manner:\n",
    "* Retrieve the non-zero indices of row $i$ in the CSR matrix - those give which facilities $i$ visited.\n",
    "* For each facility f:\n",
    "* Retrieve the non-zero indices in col $f$ in the CSC matrix - those give which people visited $f$ during the day\n",
    "* Compile the list of all people indices retrieved as such.  \n",
    "\n",
    "Note that the final list will contain duplicates, and especially will include $i$ (since $i$ visited the same facilities as $i$..).  \n",
    "For a single individual, retrieving the list of all contacts in this way is done in **constant time** $O(1)$.\n",
    "\n",
    "**Remark**: the reason we use both CSR and CSC format is because we need to retrieve both rows and columns of the presence matrix. Each of those format allows to done one of those in constant time."
   ]
  },
  {
   "cell_type": "code",
   "execution_count": null,
   "metadata": {},
   "outputs": [],
   "source": [
    "# We'll need to remove the rows in which the facility is null\n",
    "activities_df = activities_df[activities_df['facility'].notna()]"
   ]
  },
  {
   "cell_type": "code",
   "execution_count": null,
   "metadata": {},
   "outputs": [],
   "source": [
    "# The facilities names are strings (such as 'home40692'), but the matrix indices\n",
    "# will be integers starting at 0.\n",
    "# Therefore we need to create an association between facility name and matrix\n",
    "# column indices. This association is stored in a dictionnary facilities_dict.\n",
    "unique_facilities = activities_df['facility'].drop_duplicates()\n",
    "facilities_dict = {facility: index for index, facility in enumerate(unique_facilities)}\n",
    "number_of_facilities = len(facilities_dict)"
   ]
  },
  {
   "cell_type": "code",
   "execution_count": null,
   "metadata": {},
   "outputs": [],
   "source": [
    "# The people IDs are not strings but are not sorted and not continuous\n",
    "# (especially, they don't begin at 0). Thus we'll also create an association\n",
    "# person ID --> matrix row index\n",
    "unique_ids = activities_df['id'].drop_duplicates()\n",
    "ids_dict = {person_id: index for index, person_id in enumerate(unique_ids)}\n",
    "number_of_ids = len(ids_dict)"
   ]
  },
  {
   "cell_type": "code",
   "execution_count": null,
   "metadata": {},
   "outputs": [],
   "source": [
    "# To create the sparse matrix, we need to rows and columns of each non-zero elements\n",
    "# This corresponds to obtaining the 'id' and 'facility' columns in the activities dataframe,\n",
    "# and replacing the names with the associated indexes.\n",
    "ids_indexes = np.array(activities_df['id'].apply(lambda person_id: ids_dict[person_id]))\n",
    "facility_indexes = np.array(activities_df['facility'].apply(lambda facility: facilities_dict[facility]))"
   ]
  },
  {
   "cell_type": "code",
   "execution_count": null,
   "metadata": {},
   "outputs": [],
   "source": [
    "# Creates the sparse matrices with the same data but under different formats\n",
    "# See scipy's documentation for details\n",
    "presence_matrix_csc = sparse.csc_matrix((np.full(activities_df.shape[0], 1), (ids_indexes, facility_indexes)))\n",
    "presence_matrix_csr = sparse.csr_matrix(presence_matrix_csc)"
   ]
  },
  {
   "cell_type": "code",
   "execution_count": null,
   "metadata": {},
   "outputs": [],
   "source": [
    "presence_matrix_csr.shape"
   ]
  },
  {
   "cell_type": "code",
   "execution_count": null,
   "metadata": {},
   "outputs": [],
   "source": [
    "def find_contacts(person_id):\n",
    "    \"\"\"\n",
    "    Returns the IDs of all people a person met during\n",
    "    the day.\n",
    "    :person_id: int64, ID of the person who's contacts should be\n",
    "        retrieved.\n",
    "    :return: C, F where:\n",
    "        - C is the list of IDs of all contacts over a day\n",
    "        - F is the list of facility names at which each contact happened\n",
    "        For example, C=[10003] F=[\"home4095\"] means a single contact happened\n",
    "        with person 10,003, at facility \"home4095\".\n",
    "        The final list most likely contains duplicates and includes in the\n",
    "        contacts person_id themselves.\n",
    "    \"\"\"\n",
    "    # Retrieves the person's index in the presence matrix's\n",
    "    # rows\n",
    "    person_indx = ids_dict[person_id]\n",
    "    # Retrieves the indexes in the presence matrix's columns\n",
    "    # of the facilities the person visited\n",
    "    activ_indexes = presence_matrix_csr[person_indx].indices\n",
    "    \n",
    "    # Will contain the indexes of all contacts\n",
    "    contacts_indexes = []\n",
    "    # Will contain the indexes of the facilities at which the contacts happened\n",
    "    facilities_indxs = []\n",
    "    for activ_indx in activ_indexes:\n",
    "        # For each facility F\n",
    "        # Retrieves the indexes in the presence matrix's column\n",
    "        # corresponding to F\n",
    "        # of the people who were at F at least once\n",
    "        # during the day (i.e. non-zero elements of column F)\n",
    "        new_contacts = list(presence_matrix_csc[:, activ_indx].indices)\n",
    "        contacts_indexes += new_contacts\n",
    "        facilities_indxs += [activ_indx for _  in new_contacts]\n",
    "    return (np.array([unique_ids.iloc[indx] for indx in contacts_indexes]),\n",
    "            np.array([unique_facilities.iloc[indx] for indx in facilities_indxs]))"
   ]
  },
  {
   "cell_type": "markdown",
   "metadata": {},
   "source": [
    "## Building the contact matrix\n",
    "The first step is to obtain for a sample of the population the list of all contacts as well as where (in which facility) they took place."
   ]
  },
  {
   "cell_type": "markdown",
   "metadata": {},
   "source": [
    "### Selecting a sample of IDs\n",
    "Building the contact matrices for all people (around 2M) would take *some time*. Thus we only select a sample of the population:"
   ]
  },
  {
   "cell_type": "code",
   "execution_count": null,
   "metadata": {},
   "outputs": [],
   "source": [
    "sample_size = 100000\n",
    "sample_ids = activities_df['id'].sample(sample_size)"
   ]
  },
  {
   "cell_type": "markdown",
   "metadata": {},
   "source": [
    "### Fetching the contacts"
   ]
  },
  {
   "cell_type": "code",
   "execution_count": null,
   "metadata": {},
   "outputs": [],
   "source": [
    "# For every person in the sample, retrieves the list of all people\n",
    "# they met as well as where they met them\n",
    "all_contacts, all_facilities, all_ids = [], [], []\n",
    "start_time = time()\n",
    "\n",
    "for i, person_id in enumerate(sample_ids):\n",
    "    contacts, facilities = find_contacts(person_id)\n",
    "    all_contacts.append(contacts)\n",
    "    all_facilities.append(facilities)\n",
    "    all_ids.append([person_id for _ in contacts])\n",
    "    if i % 5000 == 0:\n",
    "        print(f\"Processed {i + 1} ids in {time() - start_time: 1.2f}s\")"
   ]
  },
  {
   "cell_type": "code",
   "execution_count": null,
   "metadata": {},
   "outputs": [],
   "source": [
    "contact_dataframe = pd.DataFrame({'id': np.concatenate(all_ids),\n",
    "                                  'contact_id': np.concatenate(all_contacts),\n",
    "                                  'facility': np.concatenate(all_facilities)})"
   ]
  },
  {
   "cell_type": "code",
   "execution_count": null,
   "metadata": {},
   "outputs": [],
   "source": [
    "contact_dataframe.iloc[:-20]"
   ]
  },
  {
   "cell_type": "markdown",
   "metadata": {},
   "source": [
    "What we wanna do now is:\n",
    "* Replace the contact ids with the age of the contacts\n",
    "* Replace the facility names with their activity types  \n",
    "\n",
    "While each person has a unique age, facilities might be of multiple types."
   ]
  },
  {
   "cell_type": "markdown",
   "metadata": {},
   "source": [
    "### Fetching the activity types"
   ]
  },
  {
   "cell_type": "code",
   "execution_count": null,
   "metadata": {},
   "outputs": [],
   "source": [
    "facilities_types = activities_df[['facility', 'type']]"
   ]
  },
  {
   "cell_type": "code",
   "execution_count": null,
   "metadata": {},
   "outputs": [],
   "source": [
    "nb_types = facilities_types.drop_duplicates().groupby('facility').count()\n",
    "nb_types.hist()"
   ]
  },
  {
   "cell_type": "markdown",
   "metadata": {},
   "source": [
    "Some facilities (about 200,000) are counted into 2 or 3 types.  \n",
    "For facilities that are counted multiple times, we'll chose the types in which they are most often represented. For example, if the facility is a school listed in 3 activities, once as 'work' (by a teacher) and twice as 'education' (by students) then the facility will **always** be considered as \"education\".  \n",
    "This reasoning creates a proportion of mistakes, such as teachers going to school for an \"educational\" activity. Nonetheless this method has the advantage of being possible to do in practice regarding computation time."
   ]
  },
  {
   "cell_type": "code",
   "execution_count": null,
   "metadata": {},
   "outputs": [],
   "source": [
    "# Counts the occurences of each (facility, activity type) pair in the activities,\n",
    "# and sort them by facility and then by type count\n",
    "fac_types_counts = facilities_types.value_counts().reset_index().sort_values(['facility', 0], ascending=False)\n",
    "fac_types_counts.head()"
   ]
  },
  {
   "cell_type": "code",
   "execution_count": null,
   "metadata": {},
   "outputs": [],
   "source": [
    "# For facility, selects the pair (facility, type) that occurs most times\n",
    "final_fac_types = fac_types_counts.groupby('facility').first().reset_index()[['facility', 'type']].set_index('facility')\n",
    "final_fac_types.head()"
   ]
  },
  {
   "cell_type": "code",
   "execution_count": null,
   "metadata": {},
   "outputs": [],
   "source": [
    "# For each activity in the contacts dataframe, fetches the facility type based on the previous\n",
    "# result\n",
    "contact_dataframe = contact_dataframe.merge(final_fac_types, left_on='facility', right_index=True)\n",
    "contact_dataframe.sample(10)"
   ]
  },
  {
   "cell_type": "markdown",
   "metadata": {},
   "source": [
    "### Fetching the contact's age\n",
    "All we need now to obtain the contact matrices is to retrieve the age of each contact in the contacts df."
   ]
  },
  {
   "cell_type": "code",
   "execution_count": null,
   "metadata": {},
   "outputs": [],
   "source": [
    "population_data = pd.read_csv('../data/matsim_population_attributes.csv')\n",
    "population_data.head()"
   ]
  },
  {
   "cell_type": "code",
   "execution_count": null,
   "metadata": {},
   "outputs": [],
   "source": [
    "# Fetches the id-age association\n",
    "id_age_df = population_data[['id', 'age']].drop_duplicates().set_index('id')\n",
    "id_age_df.index.is_unique"
   ]
  },
  {
   "cell_type": "code",
   "execution_count": null,
   "metadata": {},
   "outputs": [],
   "source": [
    "contact_dataframe = contact_dataframe.merge(id_age_df, left_on='id', right_index=True)\n",
    "contact_dataframe.sample(10)"
   ]
  },
  {
   "cell_type": "markdown",
   "metadata": {},
   "source": [
    "### Some stats\n",
    "Distribution of the number of total contacts:"
   ]
  },
  {
   "cell_type": "code",
   "execution_count": null,
   "metadata": {},
   "outputs": [],
   "source": [
    "fig, ax = plt.subplots(nrows=1, ncols=2, figsize=(12, 7))\n",
    "nb_contacts = contact_dataframe.groupby('id').count()['contact_id']\n",
    "ax[0].hist(nb_contacts, bins=100)\n",
    "ax[0].set_xlabel(\"Number of contacts\")\n",
    "ax[0].set_ylabel(\"Frequency\")\n",
    "ax[1].hist(nb_contacts, bins=100, log=True)\n",
    "ax[1].set_ylabel(\"Log(frequency)\")\n",
    "ax[1].set_xlabel(\"Number of contacts\")"
   ]
  },
  {
   "cell_type": "markdown",
   "metadata": {},
   "source": [
    "The number of contacts seems to follow a power law: most people only meet around a few hundred people per day, while some meet up to more than 2000."
   ]
  },
  {
   "cell_type": "markdown",
   "metadata": {},
   "source": [
    "### Contact matrix for a single indiv"
   ]
  },
  {
   "cell_type": "markdown",
   "metadata": {},
   "source": [
    "#### Age to age groups\n",
    "Let's now map the age of each contact to an age group."
   ]
  },
  {
   "cell_type": "code",
   "execution_count": null,
   "metadata": {},
   "outputs": [],
   "source": [
    "age_intervals = pd.DataFrame({'From': [0, 20, 65], 'To': [19, 64, 150], 'Group':['0-19', '19-64', '65-']})\n",
    "age_intervals"
   ]
  },
  {
   "cell_type": "code",
   "execution_count": null,
   "metadata": {},
   "outputs": [],
   "source": [
    "age_intervals = age_intervals.set_index(pd.IntervalIndex.from_arrays(age_intervals['From'], \n",
    "                                                             age_intervals['To']))['Group']\n",
    "\n",
    "contact_dataframe['age_group'] = contact_dataframe['age'].map(age_intervals)\n",
    "contact_dataframe.sample(10)"
   ]
  },
  {
   "cell_type": "markdown",
   "metadata": {},
   "source": [
    "#### Counting contacts per (ID, type, age_group)"
   ]
  },
  {
   "cell_type": "code",
   "execution_count": null,
   "metadata": {},
   "outputs": [],
   "source": [
    "contact_counts = contact_dataframe.groupby(['id', 'type', 'age_group']).count()['contact_id'].reset_index()\n",
    "contact_counts = contact_counts.rename({'contact_id': 'contacts'}, axis=1)\n",
    "contact_counts.sample(10)"
   ]
  },
  {
   "cell_type": "code",
   "execution_count": null,
   "metadata": {},
   "outputs": [],
   "source": [
    "contact_counts = contact_counts.pivot(index='id', columns=['type', 'age_group'], values='contacts').fillna(0).sort_index(axis=1)\n",
    "contact_counts.head()"
   ]
  },
  {
   "cell_type": "markdown",
   "metadata": {},
   "source": [
    "Each row of the ```contact_counts``` dataframe contains the number of contacts for a person in the sample, for each age group and each type of activity.  \n",
    "We'll now convert this to a 3D np array: dimension 0 is the person, dimensions 1 and 2 are the contact matrix itself."
   ]
  },
  {
   "cell_type": "code",
   "execution_count": null,
   "metadata": {},
   "outputs": [],
   "source": [
    "# Converts the dataframe into a 2D matrix (a copy of the df, each row is an individual)\n",
    "contact_matrices = contact_counts.to_numpy(dtype=int)"
   ]
  },
  {
   "cell_type": "code",
   "execution_count": null,
   "metadata": {},
   "outputs": [],
   "source": [
    "n_age_groups = age_intervals.shape[0]\n",
    "# Retrieves the number of unique activity types\n",
    "n_actv_types = contact_counts.columns.get_level_values(0).unique().shape[0]\n",
    "print(f'Found {n_age_groups} age groups, {n_actv_types} activity types')"
   ]
  },
  {
   "cell_type": "code",
   "execution_count": null,
   "metadata": {},
   "outputs": [],
   "source": [
    "# Reshapes the matrix into 3D such that:\n",
    "# contact_matrices[i] is the 2D contact matrix for person i\n",
    "# contact_matrices[i] is of shape (n_age_groups, n_activity_types)\n",
    "contact_matrices = contact_matrices.reshape((contact_matrices.shape[0], n_age_groups, n_actv_types), order='F')\n",
    "print(contact_matrices.shape)"
   ]
  },
  {
   "cell_type": "markdown",
   "metadata": {},
   "source": [
    "### Saving the data"
   ]
  },
  {
   "cell_type": "code",
   "execution_count": null,
   "metadata": {},
   "outputs": [],
   "source": [
    "# Multiindex column names are not well supported in the CSV format\n",
    "# so we flatten them before saving the csv\n",
    "contact_counts.columns = ['_'.join(col).strip() for col in contact_counts.columns.values]\n",
    "contact_counts.to_csv('../data/contact_counts.csv')"
   ]
  },
  {
   "cell_type": "code",
   "execution_count": null,
   "metadata": {},
   "outputs": [],
   "source": [
    "# Saves the 3D contact matrices array\n",
    "np.save(\"../data/contact_matrices.npy\", contact_matrices)\n",
    "# Saves the IDs of people whose contact matrices are included\n",
    "np.save('../data/contact_matrices_ids.npy', contact_counts.index.to_numpy())"
   ]
  },
  {
   "cell_type": "markdown",
   "metadata": {},
   "source": [
    "# Predicting contacts from socio-economic factors\n",
    "Now that we have the contact matrices for a sample of the population, identified via the IDs, we can build a model to estimate these matrices based on the socio-economic factors that are available for these people."
   ]
  },
  {
   "cell_type": "markdown",
   "metadata": {},
   "source": [
    "## Loading the socio-economic data"
   ]
  },
  {
   "cell_type": "code",
   "execution_count": 1,
   "metadata": {},
   "outputs": [
    {
     "name": "stderr",
     "output_type": "stream",
     "text": [
      "/home/clement/.conda/envs/covid/lib/python3.8/site-packages/statsmodels/compat/pandas.py:61: FutureWarning: pandas.Int64Index is deprecated and will be removed from pandas in a future version. Use pandas.Index with the appropriate dtype instead.\n",
      "  from pandas import Int64Index as NumericIndex\n"
     ]
    }
   ],
   "source": [
    "%matplotlib inline\n",
    "import pandas as pd\n",
    "import scipy\n",
    "import numpy as np\n",
    "import matplotlib.pyplot as plt\n",
    "import sklearn\n",
    "import statsmodels.api as sm\n",
    "import statsmodels.formula.api as smf\n",
    "import seaborn as sns"
   ]
  },
  {
   "cell_type": "code",
   "execution_count": 2,
   "metadata": {},
   "outputs": [
    {
     "name": "stderr",
     "output_type": "stream",
     "text": [
      "<ipython-input-2-f87abe866b17>:3: DtypeWarning: Columns (48,49,52,53,65,66) have mixed types. Specify dtype option on import or set low_memory=False.\n",
      "  soc_eco_df = pd.read_csv(f'../data/soc_eco_df_infected_muni_wave{wave}.csv')\n"
     ]
    },
    {
     "data": {
      "text/html": [
       "<div>\n",
       "<style scoped>\n",
       "    .dataframe tbody tr th:only-of-type {\n",
       "        vertical-align: middle;\n",
       "    }\n",
       "\n",
       "    .dataframe tbody tr th {\n",
       "        vertical-align: top;\n",
       "    }\n",
       "\n",
       "    .dataframe thead th {\n",
       "        text-align: right;\n",
       "    }\n",
       "</style>\n",
       "<table border=\"1\" class=\"dataframe\">\n",
       "  <thead>\n",
       "    <tr style=\"text-align: right;\">\n",
       "      <th></th>\n",
       "      <th>Unnamed: 0.1</th>\n",
       "      <th>Unnamed: 0</th>\n",
       "      <th>id</th>\n",
       "      <th>age</th>\n",
       "      <th>bikeAvailability</th>\n",
       "      <th>carAvail</th>\n",
       "      <th>employed</th>\n",
       "      <th>hasLicense</th>\n",
       "      <th>home_x</th>\n",
       "      <th>home_y</th>\n",
       "      <th>...</th>\n",
       "      <th>PEV/PCS</th>\n",
       "      <th>PVL</th>\n",
       "      <th>PBD</th>\n",
       "      <th>PST</th>\n",
       "      <th>PES</th>\n",
       "      <th>SmallRightParties</th>\n",
       "      <th>rich</th>\n",
       "      <th>poor</th>\n",
       "      <th>female</th>\n",
       "      <th>interactemployed_poor</th>\n",
       "    </tr>\n",
       "  </thead>\n",
       "  <tbody>\n",
       "    <tr>\n",
       "      <th>0</th>\n",
       "      <td>0</td>\n",
       "      <td>137601</td>\n",
       "      <td>17639</td>\n",
       "      <td>54.0</td>\n",
       "      <td>FOR_ALL</td>\n",
       "      <td>always</td>\n",
       "      <td>1</td>\n",
       "      <td>yes</td>\n",
       "      <td>2678057.0</td>\n",
       "      <td>1240960.0</td>\n",
       "      <td>...</td>\n",
       "      <td>4.194018</td>\n",
       "      <td>16.237935</td>\n",
       "      <td>1.28403</td>\n",
       "      <td>0.176013</td>\n",
       "      <td>12.368531</td>\n",
       "      <td>1.385022</td>\n",
       "      <td>1</td>\n",
       "      <td>0</td>\n",
       "      <td>1</td>\n",
       "      <td>1</td>\n",
       "    </tr>\n",
       "    <tr>\n",
       "      <th>1</th>\n",
       "      <td>1</td>\n",
       "      <td>137076</td>\n",
       "      <td>14698</td>\n",
       "      <td>50.0</td>\n",
       "      <td>FOR_ALL</td>\n",
       "      <td>always</td>\n",
       "      <td>1</td>\n",
       "      <td>yes</td>\n",
       "      <td>2677809.0</td>\n",
       "      <td>1241089.0</td>\n",
       "      <td>...</td>\n",
       "      <td>4.194018</td>\n",
       "      <td>16.237935</td>\n",
       "      <td>1.28403</td>\n",
       "      <td>0.176013</td>\n",
       "      <td>12.368531</td>\n",
       "      <td>1.385022</td>\n",
       "      <td>1</td>\n",
       "      <td>0</td>\n",
       "      <td>1</td>\n",
       "      <td>1</td>\n",
       "    </tr>\n",
       "    <tr>\n",
       "      <th>2</th>\n",
       "      <td>2</td>\n",
       "      <td>137081</td>\n",
       "      <td>14703</td>\n",
       "      <td>46.0</td>\n",
       "      <td>FOR_ALL</td>\n",
       "      <td>always</td>\n",
       "      <td>1</td>\n",
       "      <td>yes</td>\n",
       "      <td>2677660.0</td>\n",
       "      <td>1240972.0</td>\n",
       "      <td>...</td>\n",
       "      <td>4.194018</td>\n",
       "      <td>16.237935</td>\n",
       "      <td>1.28403</td>\n",
       "      <td>0.176013</td>\n",
       "      <td>12.368531</td>\n",
       "      <td>1.385022</td>\n",
       "      <td>1</td>\n",
       "      <td>0</td>\n",
       "      <td>1</td>\n",
       "      <td>1</td>\n",
       "    </tr>\n",
       "    <tr>\n",
       "      <th>3</th>\n",
       "      <td>3</td>\n",
       "      <td>137082</td>\n",
       "      <td>14708</td>\n",
       "      <td>33.0</td>\n",
       "      <td>FOR_ALL</td>\n",
       "      <td>always</td>\n",
       "      <td>1</td>\n",
       "      <td>yes</td>\n",
       "      <td>2678099.0</td>\n",
       "      <td>1241037.0</td>\n",
       "      <td>...</td>\n",
       "      <td>4.194018</td>\n",
       "      <td>16.237935</td>\n",
       "      <td>1.28403</td>\n",
       "      <td>0.176013</td>\n",
       "      <td>12.368531</td>\n",
       "      <td>1.385022</td>\n",
       "      <td>1</td>\n",
       "      <td>0</td>\n",
       "      <td>1</td>\n",
       "      <td>1</td>\n",
       "    </tr>\n",
       "    <tr>\n",
       "      <th>4</th>\n",
       "      <td>4</td>\n",
       "      <td>137085</td>\n",
       "      <td>14719</td>\n",
       "      <td>67.0</td>\n",
       "      <td>FOR_ALL</td>\n",
       "      <td>always</td>\n",
       "      <td>0</td>\n",
       "      <td>yes</td>\n",
       "      <td>2677672.0</td>\n",
       "      <td>1241175.0</td>\n",
       "      <td>...</td>\n",
       "      <td>4.194018</td>\n",
       "      <td>16.237935</td>\n",
       "      <td>1.28403</td>\n",
       "      <td>0.176013</td>\n",
       "      <td>12.368531</td>\n",
       "      <td>1.385022</td>\n",
       "      <td>0</td>\n",
       "      <td>1</td>\n",
       "      <td>1</td>\n",
       "      <td>1</td>\n",
       "    </tr>\n",
       "  </tbody>\n",
       "</table>\n",
       "<p>5 rows × 73 columns</p>\n",
       "</div>"
      ],
      "text/plain": [
       "   Unnamed: 0.1  Unnamed: 0     id   age bikeAvailability carAvail  employed  \\\n",
       "0             0      137601  17639  54.0          FOR_ALL   always         1   \n",
       "1             1      137076  14698  50.0          FOR_ALL   always         1   \n",
       "2             2      137081  14703  46.0          FOR_ALL   always         1   \n",
       "3             3      137082  14708  33.0          FOR_ALL   always         1   \n",
       "4             4      137085  14719  67.0          FOR_ALL   always         0   \n",
       "\n",
       "  hasLicense     home_x     home_y  ...   PEV/PCS        PVL      PBD  \\\n",
       "0        yes  2678057.0  1240960.0  ...  4.194018  16.237935  1.28403   \n",
       "1        yes  2677809.0  1241089.0  ...  4.194018  16.237935  1.28403   \n",
       "2        yes  2677660.0  1240972.0  ...  4.194018  16.237935  1.28403   \n",
       "3        yes  2678099.0  1241037.0  ...  4.194018  16.237935  1.28403   \n",
       "4        yes  2677672.0  1241175.0  ...  4.194018  16.237935  1.28403   \n",
       "\n",
       "        PST        PES  SmallRightParties  rich poor  female  \\\n",
       "0  0.176013  12.368531           1.385022     1    0       1   \n",
       "1  0.176013  12.368531           1.385022     1    0       1   \n",
       "2  0.176013  12.368531           1.385022     1    0       1   \n",
       "3  0.176013  12.368531           1.385022     1    0       1   \n",
       "4  0.176013  12.368531           1.385022     0    1       1   \n",
       "\n",
       "  interactemployed_poor  \n",
       "0                     1  \n",
       "1                     1  \n",
       "2                     1  \n",
       "3                     1  \n",
       "4                     1  \n",
       "\n",
       "[5 rows x 73 columns]"
      ]
     },
     "execution_count": 2,
     "metadata": {},
     "output_type": "execute_result"
    }
   ],
   "source": [
    "# Loads the socio-eco data\n",
    "wave = 1\n",
    "soc_eco_df = pd.read_csv(f'../data/soc_eco_df_infected_muni_wave{wave}.csv')\n",
    "soc_eco_df.head()"
   ]
  },
  {
   "cell_type": "markdown",
   "metadata": {},
   "source": [
    "### Checking the data types"
   ]
  },
  {
   "cell_type": "markdown",
   "metadata": {},
   "source": [
    "A warning tells us that some columns have mixed data types:"
   ]
  },
  {
   "cell_type": "code",
   "execution_count": 3,
   "metadata": {},
   "outputs": [
    {
     "data": {
      "text/plain": [
       "Index(['TotalEmplois', 'Employement1Sector', 'TotalEtablissement',\n",
       "       'Etablissement1Sector', 'PBD', 'PST'],\n",
       "      dtype='object')"
      ]
     },
     "execution_count": 3,
     "metadata": {},
     "output_type": "execute_result"
    }
   ],
   "source": [
    "# Check the names of the problematic columns\n",
    "wrong_cols = [48, 49, 52, 53, 65, 66]\n",
    "wrong_cols_names = soc_eco_df.columns[wrong_cols]\n",
    "wrong_cols_names"
   ]
  },
  {
   "cell_type": "code",
   "execution_count": 4,
   "metadata": {},
   "outputs": [
    {
     "data": {
      "text/plain": [
       "array(['281', '105', '1267', 'X', '491', '1500', '1414', 1414, 1737,\n",
       "       '1737', '1396', '263', '647', '45057', 45057, 7166, '7166', '463',\n",
       "       '470', '299', '599', '2648', '404', '448', '223', '2396', 2396,\n",
       "       384, 743, 148, 1256, 403, 661, 1112, 1050, 367, 450, 159, 290, 185,\n",
       "       325, 651, 212, 941, 409, 296, 683, 1105, 271, 288, 417, 277, 337,\n",
       "       124, 395, 289, 272, 603, 56, 555, 223, 327, 247, 79, '79', '116',\n",
       "       '245', '132', '267', '335', '269', '319', '125', '166', '257',\n",
       "       '187', 187, 221, 254, 340, 226, 204, 291, 252, 118, 347, 214, 88,\n",
       "       119, 184, 233, 477, 176, 201, 101, 168, 70, '70', '84', '123',\n",
       "       '186', '262', '162', '565', '324', '213', '129', '89', '99', '68',\n",
       "       '95', '183', '126', '158', '277', '256', '360', '139', '77', '260',\n",
       "       '401', '154', '220', '94', '195', '235', '167', '199', '97', '200'],\n",
       "      dtype=object)"
      ]
     },
     "execution_count": 4,
     "metadata": {},
     "output_type": "execute_result"
    }
   ],
   "source": [
    "# Let's have a look at all values that appear in column 52\n",
    "pd.unique(soc_eco_df.iloc[:, 52])"
   ]
  },
  {
   "cell_type": "markdown",
   "metadata": {},
   "source": [
    "It appears that some entries are entered as strings but actually contain an integer. Some entries also contain characters like * or X which most likely indicate\n",
    "missing values.  \n",
    "The following tries to convert the values to integers, and replace them with NaNs otherwise."
   ]
  },
  {
   "cell_type": "code",
   "execution_count": 5,
   "metadata": {},
   "outputs": [],
   "source": [
    "def string_int_to_int(string_int):\n",
    "    \"\"\"\n",
    "    Converts an integer contained in a string into a real integer.\n",
    "    If the conversion fails, returns NA.\n",
    "    \"\"\"\n",
    "    try:\n",
    "        res = int(string_int)\n",
    "        return res\n",
    "    except ValueError:\n",
    "        return np.nan"
   ]
  },
  {
   "cell_type": "code",
   "execution_count": 6,
   "metadata": {},
   "outputs": [],
   "source": [
    "# apply the function to each problematic column\n",
    "for col in wrong_cols_names:\n",
    "    soc_eco_df[col] = soc_eco_df[col].apply(string_int_to_int)"
   ]
  },
  {
   "cell_type": "markdown",
   "metadata": {},
   "source": [
    "The question is, can we remove the resulting NaN values ? We first need to check how many rows include NaNs:"
   ]
  },
  {
   "cell_type": "code",
   "execution_count": 7,
   "metadata": {},
   "outputs": [
    {
     "data": {
      "text/html": [
       "<div>\n",
       "<style scoped>\n",
       "    .dataframe tbody tr th:only-of-type {\n",
       "        vertical-align: middle;\n",
       "    }\n",
       "\n",
       "    .dataframe tbody tr th {\n",
       "        vertical-align: top;\n",
       "    }\n",
       "\n",
       "    .dataframe thead th {\n",
       "        text-align: right;\n",
       "    }\n",
       "</style>\n",
       "<table border=\"1\" class=\"dataframe\">\n",
       "  <thead>\n",
       "    <tr style=\"text-align: right;\">\n",
       "      <th></th>\n",
       "      <th>Unnamed: 0.1</th>\n",
       "      <th>Unnamed: 0</th>\n",
       "      <th>id</th>\n",
       "      <th>age</th>\n",
       "      <th>bikeAvailability</th>\n",
       "      <th>carAvail</th>\n",
       "      <th>employed</th>\n",
       "      <th>hasLicense</th>\n",
       "      <th>home_x</th>\n",
       "      <th>home_y</th>\n",
       "      <th>...</th>\n",
       "      <th>PEV/PCS</th>\n",
       "      <th>PVL</th>\n",
       "      <th>PBD</th>\n",
       "      <th>PST</th>\n",
       "      <th>PES</th>\n",
       "      <th>SmallRightParties</th>\n",
       "      <th>rich</th>\n",
       "      <th>poor</th>\n",
       "      <th>female</th>\n",
       "      <th>interactemployed_poor</th>\n",
       "    </tr>\n",
       "  </thead>\n",
       "  <tbody>\n",
       "    <tr>\n",
       "      <th>7898</th>\n",
       "      <td>7898</td>\n",
       "      <td>130800</td>\n",
       "      <td>123691</td>\n",
       "      <td>59.0</td>\n",
       "      <td>FOR_ALL</td>\n",
       "      <td>always</td>\n",
       "      <td>1</td>\n",
       "      <td>yes</td>\n",
       "      <td>2689192.0</td>\n",
       "      <td>1253853.0</td>\n",
       "      <td>...</td>\n",
       "      <td>2.814337</td>\n",
       "      <td>16.190208</td>\n",
       "      <td>2.0</td>\n",
       "      <td>0.0</td>\n",
       "      <td>8.570329</td>\n",
       "      <td>1.881653</td>\n",
       "      <td>0</td>\n",
       "      <td>1</td>\n",
       "      <td>1</td>\n",
       "      <td>1</td>\n",
       "    </tr>\n",
       "    <tr>\n",
       "      <th>7899</th>\n",
       "      <td>7899</td>\n",
       "      <td>130723</td>\n",
       "      <td>123347</td>\n",
       "      <td>62.0</td>\n",
       "      <td>FOR_NONE</td>\n",
       "      <td>always</td>\n",
       "      <td>1</td>\n",
       "      <td>yes</td>\n",
       "      <td>2688614.0</td>\n",
       "      <td>1253197.0</td>\n",
       "      <td>...</td>\n",
       "      <td>2.814337</td>\n",
       "      <td>16.190208</td>\n",
       "      <td>2.0</td>\n",
       "      <td>0.0</td>\n",
       "      <td>8.570329</td>\n",
       "      <td>1.881653</td>\n",
       "      <td>1</td>\n",
       "      <td>0</td>\n",
       "      <td>0</td>\n",
       "      <td>1</td>\n",
       "    </tr>\n",
       "    <tr>\n",
       "      <th>7900</th>\n",
       "      <td>7900</td>\n",
       "      <td>130588</td>\n",
       "      <td>122625</td>\n",
       "      <td>61.0</td>\n",
       "      <td>FOR_ALL</td>\n",
       "      <td>sometimes</td>\n",
       "      <td>0</td>\n",
       "      <td>yes</td>\n",
       "      <td>2688681.0</td>\n",
       "      <td>1252235.0</td>\n",
       "      <td>...</td>\n",
       "      <td>2.814337</td>\n",
       "      <td>16.190208</td>\n",
       "      <td>2.0</td>\n",
       "      <td>0.0</td>\n",
       "      <td>8.570329</td>\n",
       "      <td>1.881653</td>\n",
       "      <td>1</td>\n",
       "      <td>0</td>\n",
       "      <td>1</td>\n",
       "      <td>0</td>\n",
       "    </tr>\n",
       "    <tr>\n",
       "      <th>7901</th>\n",
       "      <td>7901</td>\n",
       "      <td>130590</td>\n",
       "      <td>122642</td>\n",
       "      <td>20.0</td>\n",
       "      <td>FOR_SOME</td>\n",
       "      <td>sometimes</td>\n",
       "      <td>0</td>\n",
       "      <td>no</td>\n",
       "      <td>2688914.0</td>\n",
       "      <td>1252826.0</td>\n",
       "      <td>...</td>\n",
       "      <td>2.814337</td>\n",
       "      <td>16.190208</td>\n",
       "      <td>2.0</td>\n",
       "      <td>0.0</td>\n",
       "      <td>8.570329</td>\n",
       "      <td>1.881653</td>\n",
       "      <td>1</td>\n",
       "      <td>0</td>\n",
       "      <td>1</td>\n",
       "      <td>0</td>\n",
       "    </tr>\n",
       "    <tr>\n",
       "      <th>7902</th>\n",
       "      <td>7902</td>\n",
       "      <td>130591</td>\n",
       "      <td>122643</td>\n",
       "      <td>26.0</td>\n",
       "      <td>FOR_SOME</td>\n",
       "      <td>always</td>\n",
       "      <td>0</td>\n",
       "      <td>yes</td>\n",
       "      <td>2688914.0</td>\n",
       "      <td>1252826.0</td>\n",
       "      <td>...</td>\n",
       "      <td>2.814337</td>\n",
       "      <td>16.190208</td>\n",
       "      <td>2.0</td>\n",
       "      <td>0.0</td>\n",
       "      <td>8.570329</td>\n",
       "      <td>1.881653</td>\n",
       "      <td>1</td>\n",
       "      <td>0</td>\n",
       "      <td>1</td>\n",
       "      <td>0</td>\n",
       "    </tr>\n",
       "    <tr>\n",
       "      <th>...</th>\n",
       "      <td>...</td>\n",
       "      <td>...</td>\n",
       "      <td>...</td>\n",
       "      <td>...</td>\n",
       "      <td>...</td>\n",
       "      <td>...</td>\n",
       "      <td>...</td>\n",
       "      <td>...</td>\n",
       "      <td>...</td>\n",
       "      <td>...</td>\n",
       "      <td>...</td>\n",
       "      <td>...</td>\n",
       "      <td>...</td>\n",
       "      <td>...</td>\n",
       "      <td>...</td>\n",
       "      <td>...</td>\n",
       "      <td>...</td>\n",
       "      <td>...</td>\n",
       "      <td>...</td>\n",
       "      <td>...</td>\n",
       "      <td>...</td>\n",
       "    </tr>\n",
       "    <tr>\n",
       "      <th>270051</th>\n",
       "      <td>270051</td>\n",
       "      <td>292228</td>\n",
       "      <td>2295887</td>\n",
       "      <td>50.0</td>\n",
       "      <td>FOR_ALL</td>\n",
       "      <td>always</td>\n",
       "      <td>1</td>\n",
       "      <td>yes</td>\n",
       "      <td>2658652.0</td>\n",
       "      <td>1272284.0</td>\n",
       "      <td>...</td>\n",
       "      <td>1.194722</td>\n",
       "      <td>3.914051</td>\n",
       "      <td>2.0</td>\n",
       "      <td>NaN</td>\n",
       "      <td>5.786377</td>\n",
       "      <td>0.436876</td>\n",
       "      <td>0</td>\n",
       "      <td>0</td>\n",
       "      <td>0</td>\n",
       "      <td>1</td>\n",
       "    </tr>\n",
       "    <tr>\n",
       "      <th>270052</th>\n",
       "      <td>270052</td>\n",
       "      <td>292232</td>\n",
       "      <td>2295907</td>\n",
       "      <td>69.0</td>\n",
       "      <td>FOR_NONE</td>\n",
       "      <td>always</td>\n",
       "      <td>0</td>\n",
       "      <td>yes</td>\n",
       "      <td>2658735.0</td>\n",
       "      <td>1270248.0</td>\n",
       "      <td>...</td>\n",
       "      <td>1.194722</td>\n",
       "      <td>3.914051</td>\n",
       "      <td>2.0</td>\n",
       "      <td>NaN</td>\n",
       "      <td>5.786377</td>\n",
       "      <td>0.436876</td>\n",
       "      <td>1</td>\n",
       "      <td>0</td>\n",
       "      <td>0</td>\n",
       "      <td>0</td>\n",
       "    </tr>\n",
       "    <tr>\n",
       "      <th>270053</th>\n",
       "      <td>270053</td>\n",
       "      <td>292235</td>\n",
       "      <td>2295911</td>\n",
       "      <td>49.0</td>\n",
       "      <td>FOR_ALL</td>\n",
       "      <td>always</td>\n",
       "      <td>1</td>\n",
       "      <td>yes</td>\n",
       "      <td>2657384.0</td>\n",
       "      <td>1269639.0</td>\n",
       "      <td>...</td>\n",
       "      <td>1.194722</td>\n",
       "      <td>3.914051</td>\n",
       "      <td>2.0</td>\n",
       "      <td>NaN</td>\n",
       "      <td>5.786377</td>\n",
       "      <td>0.436876</td>\n",
       "      <td>1</td>\n",
       "      <td>0</td>\n",
       "      <td>0</td>\n",
       "      <td>1</td>\n",
       "    </tr>\n",
       "    <tr>\n",
       "      <th>270054</th>\n",
       "      <td>270054</td>\n",
       "      <td>294820</td>\n",
       "      <td>2294803</td>\n",
       "      <td>50.0</td>\n",
       "      <td>FOR_ALL</td>\n",
       "      <td>always</td>\n",
       "      <td>1</td>\n",
       "      <td>yes</td>\n",
       "      <td>2657207.0</td>\n",
       "      <td>1268719.0</td>\n",
       "      <td>...</td>\n",
       "      <td>1.194722</td>\n",
       "      <td>3.914051</td>\n",
       "      <td>2.0</td>\n",
       "      <td>NaN</td>\n",
       "      <td>5.786377</td>\n",
       "      <td>0.436876</td>\n",
       "      <td>1</td>\n",
       "      <td>0</td>\n",
       "      <td>0</td>\n",
       "      <td>1</td>\n",
       "    </tr>\n",
       "    <tr>\n",
       "      <th>270055</th>\n",
       "      <td>270055</td>\n",
       "      <td>294824</td>\n",
       "      <td>2295843</td>\n",
       "      <td>42.0</td>\n",
       "      <td>FOR_ALL</td>\n",
       "      <td>sometimes</td>\n",
       "      <td>1</td>\n",
       "      <td>yes</td>\n",
       "      <td>2656855.0</td>\n",
       "      <td>1268441.0</td>\n",
       "      <td>...</td>\n",
       "      <td>1.194722</td>\n",
       "      <td>3.914051</td>\n",
       "      <td>2.0</td>\n",
       "      <td>NaN</td>\n",
       "      <td>5.786377</td>\n",
       "      <td>0.436876</td>\n",
       "      <td>1</td>\n",
       "      <td>0</td>\n",
       "      <td>0</td>\n",
       "      <td>1</td>\n",
       "    </tr>\n",
       "  </tbody>\n",
       "</table>\n",
       "<p>152702 rows × 73 columns</p>\n",
       "</div>"
      ],
      "text/plain": [
       "        Unnamed: 0.1  Unnamed: 0       id   age bikeAvailability   carAvail  \\\n",
       "7898            7898      130800   123691  59.0          FOR_ALL     always   \n",
       "7899            7899      130723   123347  62.0         FOR_NONE     always   \n",
       "7900            7900      130588   122625  61.0          FOR_ALL  sometimes   \n",
       "7901            7901      130590   122642  20.0         FOR_SOME  sometimes   \n",
       "7902            7902      130591   122643  26.0         FOR_SOME     always   \n",
       "...              ...         ...      ...   ...              ...        ...   \n",
       "270051        270051      292228  2295887  50.0          FOR_ALL     always   \n",
       "270052        270052      292232  2295907  69.0         FOR_NONE     always   \n",
       "270053        270053      292235  2295911  49.0          FOR_ALL     always   \n",
       "270054        270054      294820  2294803  50.0          FOR_ALL     always   \n",
       "270055        270055      294824  2295843  42.0          FOR_ALL  sometimes   \n",
       "\n",
       "        employed hasLicense     home_x     home_y  ...   PEV/PCS        PVL  \\\n",
       "7898           1        yes  2689192.0  1253853.0  ...  2.814337  16.190208   \n",
       "7899           1        yes  2688614.0  1253197.0  ...  2.814337  16.190208   \n",
       "7900           0        yes  2688681.0  1252235.0  ...  2.814337  16.190208   \n",
       "7901           0         no  2688914.0  1252826.0  ...  2.814337  16.190208   \n",
       "7902           0        yes  2688914.0  1252826.0  ...  2.814337  16.190208   \n",
       "...          ...        ...        ...        ...  ...       ...        ...   \n",
       "270051         1        yes  2658652.0  1272284.0  ...  1.194722   3.914051   \n",
       "270052         0        yes  2658735.0  1270248.0  ...  1.194722   3.914051   \n",
       "270053         1        yes  2657384.0  1269639.0  ...  1.194722   3.914051   \n",
       "270054         1        yes  2657207.0  1268719.0  ...  1.194722   3.914051   \n",
       "270055         1        yes  2656855.0  1268441.0  ...  1.194722   3.914051   \n",
       "\n",
       "        PBD  PST       PES  SmallRightParties  rich poor  female  \\\n",
       "7898    2.0  0.0  8.570329           1.881653     0    1       1   \n",
       "7899    2.0  0.0  8.570329           1.881653     1    0       0   \n",
       "7900    2.0  0.0  8.570329           1.881653     1    0       1   \n",
       "7901    2.0  0.0  8.570329           1.881653     1    0       1   \n",
       "7902    2.0  0.0  8.570329           1.881653     1    0       1   \n",
       "...     ...  ...       ...                ...   ...  ...     ...   \n",
       "270051  2.0  NaN  5.786377           0.436876     0    0       0   \n",
       "270052  2.0  NaN  5.786377           0.436876     1    0       0   \n",
       "270053  2.0  NaN  5.786377           0.436876     1    0       0   \n",
       "270054  2.0  NaN  5.786377           0.436876     1    0       0   \n",
       "270055  2.0  NaN  5.786377           0.436876     1    0       0   \n",
       "\n",
       "       interactemployed_poor  \n",
       "7898                       1  \n",
       "7899                       1  \n",
       "7900                       0  \n",
       "7901                       0  \n",
       "7902                       0  \n",
       "...                      ...  \n",
       "270051                     1  \n",
       "270052                     0  \n",
       "270053                     1  \n",
       "270054                     1  \n",
       "270055                     1  \n",
       "\n",
       "[152702 rows x 73 columns]"
      ]
     },
     "execution_count": 7,
     "metadata": {},
     "output_type": "execute_result"
    }
   ],
   "source": [
    "uncomplete_rows = soc_eco_df[soc_eco_df.isna().any(axis=1)]\n",
    "uncomplete_rows"
   ]
  },
  {
   "cell_type": "code",
   "execution_count": 8,
   "metadata": {},
   "outputs": [
    {
     "data": {
      "text/plain": [
       "270056"
      ]
     },
     "execution_count": 8,
     "metadata": {},
     "output_type": "execute_result"
    }
   ],
   "source": [
    "len(soc_eco_df)"
   ]
  },
  {
   "cell_type": "markdown",
   "metadata": {},
   "source": [
    "It appears that 152,000 rows out of 270,000 contain NaN values. Thus it would be very costly to remove them as it would reduce the amount of data available but also potentially create biases linked to how the missing values were distributed. Thus it is safer to just remove the problematic columns."
   ]
  },
  {
   "cell_type": "code",
   "execution_count": 9,
   "metadata": {},
   "outputs": [],
   "source": [
    "soc_eco_df = soc_eco_df.drop(wrong_cols_names, axis=1)"
   ]
  },
  {
   "cell_type": "markdown",
   "metadata": {},
   "source": [
    "No null values are left in the dataset and the dtypes seem in order.\n"
   ]
  },
  {
   "cell_type": "markdown",
   "metadata": {},
   "source": [
    "### Column names\n",
    "Some columns need to be renamed to avoid confusions or remove special characters, such as in 'PopDensityPer_km²':"
   ]
  },
  {
   "cell_type": "code",
   "execution_count": 10,
   "metadata": {},
   "outputs": [],
   "source": [
    "soc_eco_df = soc_eco_df.rename({'PopDensitiyPer_km²':'PopDensity', 'TotSurfacePer_km²':'TotSurface'}, axis=1)"
   ]
  },
  {
   "cell_type": "markdown",
   "metadata": {},
   "source": [
    "### Useless columns\n",
    "The first two columns are linked to the way the data was created but are no longer of any use, so we might as well remove them:"
   ]
  },
  {
   "cell_type": "code",
   "execution_count": 11,
   "metadata": {},
   "outputs": [],
   "source": [
    "soc_eco_df = soc_eco_df.drop(['Unnamed: 0', 'Unnamed: 0.1'], axis=1)"
   ]
  },
  {
   "cell_type": "markdown",
   "metadata": {},
   "source": [
    "## Preprocessing"
   ]
  },
  {
   "cell_type": "markdown",
   "metadata": {},
   "source": [
    "### Checking for null values"
   ]
  },
  {
   "cell_type": "code",
   "execution_count": 12,
   "metadata": {},
   "outputs": [
    {
     "name": "stdout",
     "output_type": "stream",
     "text": [
      "SocialSecurityRate    1147\n",
      "dtype: int64\n"
     ]
    }
   ],
   "source": [
    "na_cols_counts = soc_eco_df.isna().sum()\n",
    "print(na_cols_counts[na_cols_counts > 0])"
   ]
  },
  {
   "cell_type": "markdown",
   "metadata": {},
   "source": [
    "The \"SocialSecurityRate\" variable is missing for 1147 people. Out of of 270k it might seem like we could discard them, but this could induce a bias in the data..  \n",
    "For now, we'll discard the entire column (so we won't use that feature for any prediction), however a better method in the future is to predict the missing values based on the other variables."
   ]
  },
  {
   "cell_type": "code",
   "execution_count": 13,
   "metadata": {},
   "outputs": [],
   "source": [
    "soc_eco_df = soc_eco_df.drop('SocialSecurityRate', axis=1)"
   ]
  },
  {
   "cell_type": "markdown",
   "metadata": {},
   "source": [
    "### Discarding the geographical features\n",
    "The data includes some variables that give geographical information about the individuals. This information is necessarily correlated with the\n",
    "infections as those were introduced into the synthetic population based on the incidence in every *municipality*.\n",
    "\n",
    "Thus we cannot include those features in the models if we want to search for a relationship between the other features and infections."
   ]
  },
  {
   "cell_type": "code",
   "execution_count": 14,
   "metadata": {},
   "outputs": [],
   "source": [
    "geographical_features = ['home_x', 'home_y', 'Lat', 'Lon', 'lat_lon', 'postcode', 'MuniZIP', 'MuniZIP_x', 'MuniZIP_y',]\n",
    "geo_features_df = soc_eco_df[geographical_features]\n",
    "soc_eco_df = soc_eco_df.drop(geographical_features, axis=1)"
   ]
  },
  {
   "cell_type": "markdown",
   "metadata": {},
   "source": [
    "**Note**: another possibility than discarding those features would be to use a spatial linear model, such as Geographically Weighted Regressions (GWR) or Spatial Lag Models (SLM)."
   ]
  },
  {
   "cell_type": "markdown",
   "metadata": {},
   "source": [
    "### Converting categorical features to one-hot"
   ]
  },
  {
   "cell_type": "code",
   "execution_count": 15,
   "metadata": {},
   "outputs": [
    {
     "data": {
      "text/html": [
       "<div>\n",
       "<style scoped>\n",
       "    .dataframe tbody tr th:only-of-type {\n",
       "        vertical-align: middle;\n",
       "    }\n",
       "\n",
       "    .dataframe tbody tr th {\n",
       "        vertical-align: top;\n",
       "    }\n",
       "\n",
       "    .dataframe thead th {\n",
       "        text-align: right;\n",
       "    }\n",
       "</style>\n",
       "<table border=\"1\" class=\"dataframe\">\n",
       "  <thead>\n",
       "    <tr style=\"text-align: right;\">\n",
       "      <th></th>\n",
       "      <th>bikeAvailability</th>\n",
       "      <th>carAvail</th>\n",
       "      <th>hasLicense</th>\n",
       "      <th>municipalityType</th>\n",
       "      <th>sex</th>\n",
       "      <th>ov_guteklasse</th>\n",
       "    </tr>\n",
       "  </thead>\n",
       "  <tbody>\n",
       "    <tr>\n",
       "      <th>0</th>\n",
       "      <td>FOR_ALL</td>\n",
       "      <td>always</td>\n",
       "      <td>yes</td>\n",
       "      <td>urban</td>\n",
       "      <td>f</td>\n",
       "      <td>D</td>\n",
       "    </tr>\n",
       "    <tr>\n",
       "      <th>1</th>\n",
       "      <td>FOR_ALL</td>\n",
       "      <td>always</td>\n",
       "      <td>yes</td>\n",
       "      <td>urban</td>\n",
       "      <td>f</td>\n",
       "      <td>D</td>\n",
       "    </tr>\n",
       "    <tr>\n",
       "      <th>2</th>\n",
       "      <td>FOR_ALL</td>\n",
       "      <td>always</td>\n",
       "      <td>yes</td>\n",
       "      <td>urban</td>\n",
       "      <td>f</td>\n",
       "      <td>D</td>\n",
       "    </tr>\n",
       "    <tr>\n",
       "      <th>3</th>\n",
       "      <td>FOR_ALL</td>\n",
       "      <td>always</td>\n",
       "      <td>yes</td>\n",
       "      <td>urban</td>\n",
       "      <td>f</td>\n",
       "      <td>D</td>\n",
       "    </tr>\n",
       "    <tr>\n",
       "      <th>4</th>\n",
       "      <td>FOR_ALL</td>\n",
       "      <td>always</td>\n",
       "      <td>yes</td>\n",
       "      <td>urban</td>\n",
       "      <td>f</td>\n",
       "      <td>C</td>\n",
       "    </tr>\n",
       "  </tbody>\n",
       "</table>\n",
       "</div>"
      ],
      "text/plain": [
       "  bikeAvailability carAvail hasLicense municipalityType sex ov_guteklasse\n",
       "0          FOR_ALL   always        yes            urban   f             D\n",
       "1          FOR_ALL   always        yes            urban   f             D\n",
       "2          FOR_ALL   always        yes            urban   f             D\n",
       "3          FOR_ALL   always        yes            urban   f             D\n",
       "4          FOR_ALL   always        yes            urban   f             C"
      ]
     },
     "execution_count": 15,
     "metadata": {},
     "output_type": "execute_result"
    }
   ],
   "source": [
    "# Selects the columns whose values are categorical\n",
    "categorical_features = soc_eco_df.select_dtypes('object')\n",
    "categorical_features.head()"
   ]
  },
  {
   "cell_type": "code",
   "execution_count": 16,
   "metadata": {},
   "outputs": [
    {
     "name": "stdout",
     "output_type": "stream",
     "text": [
      "<class 'pandas.core.frame.DataFrame'>\n",
      "RangeIndex: 270056 entries, 0 to 270055\n",
      "Data columns (total 17 columns):\n",
      " #   Column                     Non-Null Count   Dtype\n",
      "---  ------                     --------------   -----\n",
      " 0   bikeAvailability_FOR_ALL   270056 non-null  uint8\n",
      " 1   bikeAvailability_FOR_NONE  270056 non-null  uint8\n",
      " 2   bikeAvailability_FOR_SOME  270056 non-null  uint8\n",
      " 3   carAvail_always            270056 non-null  uint8\n",
      " 4   carAvail_never             270056 non-null  uint8\n",
      " 5   carAvail_sometimes         270056 non-null  uint8\n",
      " 6   hasLicense_no              270056 non-null  uint8\n",
      " 7   hasLicense_yes             270056 non-null  uint8\n",
      " 8   municipalityType_rural     270056 non-null  uint8\n",
      " 9   municipalityType_suburban  270056 non-null  uint8\n",
      " 10  municipalityType_urban     270056 non-null  uint8\n",
      " 11  sex_f                      270056 non-null  uint8\n",
      " 12  sex_m                      270056 non-null  uint8\n",
      " 13  ov_guteklasse_A            270056 non-null  uint8\n",
      " 14  ov_guteklasse_B            270056 non-null  uint8\n",
      " 15  ov_guteklasse_C            270056 non-null  uint8\n",
      " 16  ov_guteklasse_D            270056 non-null  uint8\n",
      "dtypes: uint8(17)\n",
      "memory usage: 4.4 MB\n"
     ]
    }
   ],
   "source": [
    "categorical_features_onehot = pd.get_dummies(categorical_features)\n",
    "# Let's have a look at all possible values that we obtain for those features\n",
    "categorical_features_onehot.info()"
   ]
  },
  {
   "cell_type": "code",
   "execution_count": 17,
   "metadata": {},
   "outputs": [],
   "source": [
    "# Replaces the original categorical features in the full dataset with their one-hot versions\n",
    "# we just computed:\n",
    "soc_eco_df = soc_eco_df.drop(categorical_features.columns, axis=1)\n",
    "soc_eco_df = pd.concat([soc_eco_df, categorical_features_onehot], axis=1)"
   ]
  },
  {
   "cell_type": "markdown",
   "metadata": {},
   "source": [
    "We obtain a dataset ready to be used for statistical analysis."
   ]
  },
  {
   "cell_type": "markdown",
   "metadata": {},
   "source": [
    "## Statistical Analysis"
   ]
  },
  {
   "cell_type": "markdown",
   "metadata": {},
   "source": [
    "### Contact - soc/eco factors relationship\n",
    "Here we hope to predict the contact matrices of an individual based on their socio-economic position.  \n",
    "The first test we'll perform is an ordinary least-squares linear regression with only a few features as input:  \n",
    "age, sex, Pop65, Pop20, PopDulation density  \n",
    "Except for the 'female' feature which is binary, we'll use the log of the variables so that their distribution is less skewed."
   ]
  },
  {
   "cell_type": "code",
   "execution_count": 18,
   "metadata": {},
   "outputs": [],
   "source": [
    "# Drops the 'infected' column as this isn't our predicted variable here\n",
    "infected = soc_eco_df['infected']\n",
    "soc_eco_df = soc_eco_df.drop('infected', axis=1)\n",
    "soc_eco_data = soc_eco_df.drop('id', axis=1)"
   ]
  },
  {
   "cell_type": "markdown",
   "metadata": {},
   "source": [
    "### PCA of soc-eco factors\n",
    "We'll use a PCA to try to distinguish potential clusters in the data:"
   ]
  },
  {
   "cell_type": "code",
   "execution_count": 19,
   "metadata": {},
   "outputs": [],
   "source": [
    "from sklearn.decomposition import PCA\n",
    "from sklearn.mixture import GaussianMixture\n",
    "from sklearn.preprocessing import StandardScaler"
   ]
  },
  {
   "cell_type": "code",
   "execution_count": 20,
   "metadata": {},
   "outputs": [],
   "source": [
    "# Performs PCA onto the soc/eco features to reduce them to 2d\n",
    "soc_eco_pca = PCA(n_components=5, random_state=42)\n",
    "soc_eco_scaler = StandardScaler()\n",
    "soc_eco_scaler.fit(soc_eco_data)\n",
    "scaled_soc_eco_data = soc_eco_scaler.transform(soc_eco_data)\n",
    "\n",
    "soc_eco_pca.fit(scaled_soc_eco_data)\n",
    "pca_transform = soc_eco_pca.transform(scaled_soc_eco_data)\n",
    "\n",
    "# Applies GMM clustering to better visualize the clusters and use\n",
    "# them for further analysis\n",
    "pca_gmm = GaussianMixture(n_components=2, random_state=42).fit(pca_transform)\n",
    "pca_clusters = pca_gmm.predict(pca_transform)"
   ]
  },
  {
   "cell_type": "code",
   "execution_count": 21,
   "metadata": {},
   "outputs": [
    {
     "data": {
      "text/plain": [
       "Text(0, 0.5, 'Explained variance (%)')"
      ]
     },
     "execution_count": 21,
     "metadata": {},
     "output_type": "execute_result"
    },
    {
     "data": {
      "image/png": "[encoded data removed]",
      "text/plain": [
       "<Figure size 432x288 with 1 Axes>"
      ]
     },
     "metadata": {
      "needs_background": "light"
     },
     "output_type": "display_data"
    }
   ],
   "source": [
    "# Prints the explained variance for each component\n",
    "plt.bar(x=np.arange(soc_eco_pca.components_.shape[0]), height=soc_eco_pca.explained_variance_ratio_)\n",
    "plt.xlabel('PCA axis')\n",
    "plt.ylabel('Explained variance (%)')"
   ]
  },
  {
   "cell_type": "code",
   "execution_count": 22,
   "metadata": {},
   "outputs": [
    {
     "data": {
      "text/plain": [
       "<matplotlib.collections.PathCollection at 0x7f9b61df5970>"
      ]
     },
     "execution_count": 22,
     "metadata": {},
     "output_type": "execute_result"
    },
    {
     "data": {
      "image/png": "[encoded data removed]",
      "text/plain": [
       "<Figure size 432x288 with 1 Axes>"
      ]
     },
     "metadata": {
      "needs_background": "light"
     },
     "output_type": "display_data"
    }
   ],
   "source": [
    "plt.scatter(pca_transform[:, 0], pca_transform[:, 1], c=pca_clusters, s=0.1)"
   ]
  },
  {
   "cell_type": "markdown",
   "metadata": {},
   "source": [
    "There are two clear clusters isolated by axis 0. Let's have a look at the important features:"
   ]
  },
  {
   "cell_type": "code",
   "execution_count": 23,
   "metadata": {},
   "outputs": [
    {
     "data": {
      "text/plain": [
       "Feature coef\n",
       "Employement2Sector                 -0.219604\n",
       "Etablissement2Sector               -0.217819\n",
       "NbrResident                        -0.216270\n",
       "PrivateHouseholds                  -0.216261\n",
       "Employement3Sector                 -0.216013\n",
       "PopDensity                         -0.215894\n",
       "Etablissement3Sector               -0.215643\n",
       "TotSurface                         -0.215448\n",
       "HabInfraSurface_VariationHa        -0.210218\n",
       "PES                                -0.208412\n",
       "AgriSurface_VariationHa             0.207528\n",
       "Pop20                              -0.200137\n",
       "MeanSizeHouseholdsPerPerson         0.194639\n",
       "HabitationInfrastructureSurface%   -0.194295\n",
       "UDC                                 0.190458\n",
       "Name: PCA axis 0 coefs, dtype: float64"
      ]
     },
     "execution_count": 23,
     "metadata": {},
     "output_type": "execute_result"
    }
   ],
   "source": [
    "features_ranking_indices = np.argsort(np.abs(soc_eco_pca.components_[0]))[::-1]\n",
    "features_ranking = pd.Series({feature: coef\n",
    "                    for feature, coef in zip(soc_eco_data.columns.values[features_ranking_indices],\n",
    "                                             soc_eco_pca.components_[0][features_ranking_indices])\n",
    "                   }, name=\"PCA axis 0 coefs\").rename_axis('Feature coef')\n",
    "features_ranking.head(15)"
   ]
  },
  {
   "cell_type": "markdown",
   "metadata": {},
   "source": [
    "Clearly the most important features are those related to the **municipality** (variables that are equal for all individuals living within the same muni).  \n",
    "We thus need to have a look at the distribution of municipalities:"
   ]
  },
  {
   "cell_type": "code",
   "execution_count": 46,
   "metadata": {},
   "outputs": [
    {
     "name": "stdout",
     "output_type": "stream",
     "text": [
      "Found 138 unique munis\n"
     ]
    }
   ],
   "source": [
    "muni_populations = geo_features_df['MuniZIP'].value_counts().sort_values(ascending=False)\n",
    "print(f\"Found {muni_populations.shape[0]} unique munis\")"
   ]
  },
  {
   "cell_type": "code",
   "execution_count": 51,
   "metadata": {},
   "outputs": [
    {
     "data": {
      "text/plain": [
       "Text(0, 0.5, 'Count')"
      ]
     },
     "execution_count": 51,
     "metadata": {},
     "output_type": "execute_result"
    },
    {
     "data": {
      "image/png": "[encoded data removed]",
      "text/plain": [
       "<Figure size 432x288 with 1 Axes>"
      ]
     },
     "metadata": {
      "needs_background": "light"
     },
     "output_type": "display_data"
    }
   ],
   "source": [
    "plt.hist(muni_populations.values, bins=20, log=True)\n",
    "plt.xlabel('Sample individuals residing in muni')\n",
    "plt.ylabel('Count')"
   ]
  },
  {
   "cell_type": "code",
   "execution_count": 48,
   "metadata": {},
   "outputs": [
    {
     "data": {
      "text/plain": [
       "261     82728\n",
       "3203    16339\n",
       "243      6038\n",
       "4001     4652\n",
       "62       4457\n",
       "Name: MuniZIP, dtype: int64"
      ]
     },
     "execution_count": 48,
     "metadata": {},
     "output_type": "execute_result"
    }
   ],
   "source": [
    "muni_populations.head()"
   ]
  },
  {
   "cell_type": "markdown",
   "metadata": {},
   "source": [
    "While the large majority of munis include less than 10K residents in the sample, two municipalities include respectively 16k and 82k residents.  Let's examine their postcodes so that we can know which cities those are:"
   ]
  },
  {
   "cell_type": "code",
   "execution_count": 54,
   "metadata": {},
   "outputs": [
    {
     "data": {
      "text/html": [
       "<div>\n",
       "<style scoped>\n",
       "    .dataframe tbody tr th:only-of-type {\n",
       "        vertical-align: middle;\n",
       "    }\n",
       "\n",
       "    .dataframe tbody tr th {\n",
       "        vertical-align: top;\n",
       "    }\n",
       "\n",
       "    .dataframe thead th {\n",
       "        text-align: right;\n",
       "    }\n",
       "</style>\n",
       "<table border=\"1\" class=\"dataframe\">\n",
       "  <thead>\n",
       "    <tr style=\"text-align: right;\">\n",
       "      <th></th>\n",
       "      <th>MuniZIP</th>\n",
       "      <th>postcode</th>\n",
       "    </tr>\n",
       "  </thead>\n",
       "  <tbody>\n",
       "    <tr>\n",
       "      <th>40520</th>\n",
       "      <td>261</td>\n",
       "      <td>8004</td>\n",
       "    </tr>\n",
       "    <tr>\n",
       "      <th>123248</th>\n",
       "      <td>3203</td>\n",
       "      <td>9000</td>\n",
       "    </tr>\n",
       "  </tbody>\n",
       "</table>\n",
       "</div>"
      ],
      "text/plain": [
       "        MuniZIP  postcode\n",
       "40520       261      8004\n",
       "123248     3203      9000"
      ]
     },
     "execution_count": 54,
     "metadata": {},
     "output_type": "execute_result"
    }
   ],
   "source": [
    "zip_postcode_pairs = geo_features_df[['MuniZIP', 'postcode']].drop_duplicates('MuniZIP')\n",
    "zip_postcode_pairs[zip_postcode_pairs['MuniZIP'].isin([261, 3203])]"
   ]
  },
  {
   "cell_type": "markdown",
   "metadata": {},
   "source": [
    "Quite expectedly, the two major cities are **Zürich** (postcodes 8000) and **St-Gallens** (postcodes 9000).  \n",
    "Let's verify that the clusters indeed separate residents from Zürich from the rest of the population:"
   ]
  },
  {
   "cell_type": "code",
   "execution_count": 63,
   "metadata": {},
   "outputs": [],
   "source": [
    "# Creates a column indicating if individuals live in Zurich, St-Gallens or some other muni\n",
    "munis_cluster_ids = {261: 0, 3203: 1}\n",
    "def map_muniZIP_cluster_id(muniZIP):\n",
    "    if muniZIP in munis_cluster_ids:\n",
    "        return munis_cluster_ids[muniZIP]\n",
    "    else:\n",
    "        return 2\n",
    "\n",
    "zurich_indicator = pd.to_numeric(geo_features_df['MuniZIP'].apply(map_muniZIP_cluster_id))"
   ]
  },
  {
   "cell_type": "code",
   "execution_count": 66,
   "metadata": {},
   "outputs": [
    {
     "data": {
      "text/plain": [
       "Text(0.5, 0.98, 'Are clusters based on cities ?')"
      ]
     },
     "execution_count": 66,
     "metadata": {},
     "output_type": "execute_result"
    },
    {
     "data": {
      "image/png": "[encoded data removed]",
      "text/plain": [
       "<Figure size 720x360 with 2 Axes>"
      ]
     },
     "metadata": {
      "needs_background": "light"
     },
     "output_type": "display_data"
    }
   ],
   "source": [
    "plt.figure(figsize=(10, 5))\n",
    "plt.subplot(121)\n",
    "plt.scatter(pca_transform[:, 0], pca_transform[:, 1], c=pca_clusters, s=0.1)\n",
    "plt.xlabel(\"GMM-determined clusters\")\n",
    "plt.subplot(122)\n",
    "plt.scatter(pca_transform[:, 0], pca_transform[:, 1], c=zurich_indicator, s=0.1)\n",
    "plt.xlabel(\"Municipality-based clusters\")\n",
    "plt.suptitle(\"Are clusters based on cities ?\")"
   ]
  },
  {
   "cell_type": "markdown",
   "metadata": {},
   "source": [
    "**Conclusion**:  \n",
    "\n",
    "The boolean variable \"Lives in Zürich\", which is not event present in the features, makes by far the most difference between the individuals."
   ]
  },
  {
   "cell_type": "markdown",
   "metadata": {},
   "source": [
    "### Merging the dataframes\n",
    "We'll now merge the contacts dataframe (which gives for a sample of the population the contact matrices) and the socio-economics dataframe.  \n",
    "We then hope to predict the former based on the latter.  \n",
    "Naturally we need a sufficient amount of individuals to be present in both datasets so that the merged one contains enough values to perform\n",
    "a meaningful analysis."
   ]
  },
  {
   "cell_type": "code",
   "execution_count": null,
   "metadata": {},
   "outputs": [],
   "source": [
    "# Loads the contacts dataframe\n",
    "contacts_df = pd.read_csv('../data/contact_counts.csv')\n",
    "contacts_df.head()"
   ]
  },
  {
   "cell_type": "markdown",
   "metadata": {},
   "source": [
    "The following three cells prepare sub-dataframes ```X``` and ```y``` for feature selection and ML tasks:"
   ]
  },
  {
   "cell_type": "code",
   "execution_count": null,
   "metadata": {},
   "outputs": [],
   "source": [
    "merged_df = soc_eco_df.merge(contacts_df, on=\"id\")\n",
    "merged_df.shape"
   ]
  },
  {
   "cell_type": "code",
   "execution_count": null,
   "metadata": {},
   "outputs": [],
   "source": [
    "X = merged_df[soc_eco_df.columns].drop(['id', 'cluster', 'pca_axis0', 'pca_axis1'], axis=1)\n",
    "print(X.shape, X.dtypes)"
   ]
  },
  {
   "cell_type": "code",
   "execution_count": null,
   "metadata": {},
   "outputs": [],
   "source": [
    "y = merged_df[contacts_df.columns].drop('id', axis=1)\n",
    "print(y.shape, y.dtypes)"
   ]
  },
  {
   "cell_type": "markdown",
   "metadata": {},
   "source": [
    "#### Is the sample representative ?\n",
    "The socio-economic data were taken from the first 270,000 people in the MATSIM output. Depending on how those people are ordered in the XML file, this might induce a bias.  \n",
    "We previously used a 2d-PCA to visualize clusters within the socio-economic data. We can now visualize the locations of the people in the joined datasets on those two axes to assess whether their repartition is similar to that of the full 270,000 people."
   ]
  },
  {
   "cell_type": "code",
   "execution_count": null,
   "metadata": {},
   "outputs": [],
   "source": [
    "scaled_X = soc_eco_scaler.transform(X)"
   ]
  },
  {
   "cell_type": "code",
   "execution_count": null,
   "metadata": {},
   "outputs": [],
   "source": [
    "sample_pca = soc_eco_pca.transform(scaled_X)\n",
    "sample_pca.shape"
   ]
  },
  {
   "cell_type": "code",
   "execution_count": null,
   "metadata": {},
   "outputs": [],
   "source": [
    "plt.scatter(sample_pca[:, 0], sample_pca[:, 1], s=0.1)"
   ]
  },
  {
   "cell_type": "markdown",
   "metadata": {},
   "source": [
    "### Feature selection and regression\n",
    "The socio-economic dataframe contains over 60 features. Many of them are most likely correlated, and thus it is naturally a good idea to isolate a smaller set of features to be used as predictors for the regression.  "
   ]
  },
  {
   "cell_type": "markdown",
   "metadata": {},
   "source": [
    "#### Features mutual correlation\n",
    "Since we have so many features, many are probably inter-correlated. We might want to check the Pearson coefficient for each pair of feature. For that a heatmap is convenient:"
   ]
  },
  {
   "cell_type": "code",
   "execution_count": null,
   "metadata": {},
   "outputs": [],
   "source": [
    "plt.figure(figsize=(17, 13))\n",
    "plt.suptitle(\"Features inter-correlation (Absolute R2 coef.)\", fontsize=\"x-large\")\n",
    "features_corr = X.corr()\n",
    "sns.heatmap(np.abs(features_corr))"
   ]
  },
  {
   "cell_type": "markdown",
   "metadata": {},
   "source": [
    "#### Random Forest Regressive Feature Elimination"
   ]
  },
  {
   "cell_type": "code",
   "execution_count": null,
   "metadata": {},
   "outputs": [],
   "source": [
    "from sklearn.feature_selection import RFECV\n",
    "from sklearn.ensemble import RandomForestRegressor"
   ]
  }
 ],
 "metadata": {
  "kernelspec": {
   "display_name": "Python 3",
   "language": "python",
   "name": "python3"
  },
  "language_info": {
   "codemirror_mode": {
    "name": "ipython",
    "version": 3
   },
   "file_extension": ".py",
   "mimetype": "text/x-python",
   "name": "python",
   "nbconvert_exporter": "python",
   "pygments_lexer": "ipython3",
   "version": "3.8.5"
  }
 },
 "nbformat": 4,
 "nbformat_minor": 4
}
