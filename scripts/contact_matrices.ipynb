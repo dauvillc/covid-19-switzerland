{
 "cells": [
  {
   "cell_type": "markdown",
   "metadata": {},
   "source": [
    "# Individual contact matrices from activities\n",
    "The objective in this part is to obtain, at least for a sample of the population, the number of daily contacts with other individuals. The contacts are split into groups depending on the type of activity in which the contact happened, as well as the age of the target person."
   ]
  },
  {
   "cell_type": "code",
   "execution_count": 1,
   "metadata": {},
   "outputs": [],
   "source": [
    "%matplotlib inline\n",
    "import pandas as pd\n",
    "import numpy as np\n",
    "import seaborn as sns\n",
    "import matplotlib.pyplot as plt\n",
    "import scipy.sparse as sparse"
   ]
  },
  {
   "cell_type": "markdown",
   "metadata": {},
   "source": [
    "## Loading data\n",
    "The dataframe ```data/matsim_population_activities.csv``` contains the list of all activities for each individual based on the MATSIM simulation."
   ]
  },
  {
   "cell_type": "code",
   "execution_count": 2,
   "metadata": {},
   "outputs": [
    {
     "data": {
      "text/html": [
       "<div>\n",
       "<style scoped>\n",
       "    .dataframe tbody tr th:only-of-type {\n",
       "        vertical-align: middle;\n",
       "    }\n",
       "\n",
       "    .dataframe tbody tr th {\n",
       "        vertical-align: top;\n",
       "    }\n",
       "\n",
       "    .dataframe thead th {\n",
       "        text-align: right;\n",
       "    }\n",
       "</style>\n",
       "<table border=\"1\" class=\"dataframe\">\n",
       "  <thead>\n",
       "    <tr style=\"text-align: right;\">\n",
       "      <th></th>\n",
       "      <th>id</th>\n",
       "      <th>type</th>\n",
       "      <th>facility</th>\n",
       "      <th>link</th>\n",
       "      <th>x</th>\n",
       "      <th>y</th>\n",
       "    </tr>\n",
       "  </thead>\n",
       "  <tbody>\n",
       "    <tr>\n",
       "      <th>0</th>\n",
       "      <td>100000</td>\n",
       "      <td>home</td>\n",
       "      <td>home40692</td>\n",
       "      <td>542062</td>\n",
       "      <td>2689459.0</td>\n",
       "      <td>1255462.0</td>\n",
       "    </tr>\n",
       "    <tr>\n",
       "      <th>1</th>\n",
       "      <td>100000</td>\n",
       "      <td>education</td>\n",
       "      <td>358532</td>\n",
       "      <td>184266</td>\n",
       "      <td>2689282.0</td>\n",
       "      <td>1255389.0</td>\n",
       "    </tr>\n",
       "    <tr>\n",
       "      <th>2</th>\n",
       "      <td>100000</td>\n",
       "      <td>home</td>\n",
       "      <td>home40692</td>\n",
       "      <td>542062</td>\n",
       "      <td>2689459.0</td>\n",
       "      <td>1255462.0</td>\n",
       "    </tr>\n",
       "    <tr>\n",
       "      <th>3</th>\n",
       "      <td>100000</td>\n",
       "      <td>education</td>\n",
       "      <td>484020</td>\n",
       "      <td>184266</td>\n",
       "      <td>2689282.0</td>\n",
       "      <td>1255389.0</td>\n",
       "    </tr>\n",
       "    <tr>\n",
       "      <th>4</th>\n",
       "      <td>100000</td>\n",
       "      <td>home</td>\n",
       "      <td>home40692</td>\n",
       "      <td>542062</td>\n",
       "      <td>2689459.0</td>\n",
       "      <td>1255462.0</td>\n",
       "    </tr>\n",
       "    <tr>\n",
       "      <th>5</th>\n",
       "      <td>100000</td>\n",
       "      <td>shop</td>\n",
       "      <td>601754</td>\n",
       "      <td>355392</td>\n",
       "      <td>2689600.0</td>\n",
       "      <td>1255500.0</td>\n",
       "    </tr>\n",
       "    <tr>\n",
       "      <th>6</th>\n",
       "      <td>100000</td>\n",
       "      <td>home</td>\n",
       "      <td>home40692</td>\n",
       "      <td>542062</td>\n",
       "      <td>2689459.0</td>\n",
       "      <td>1255462.0</td>\n",
       "    </tr>\n",
       "    <tr>\n",
       "      <th>7</th>\n",
       "      <td>100000</td>\n",
       "      <td>shop</td>\n",
       "      <td>125790</td>\n",
       "      <td>355330</td>\n",
       "      <td>2689674.0</td>\n",
       "      <td>1255464.0</td>\n",
       "    </tr>\n",
       "    <tr>\n",
       "      <th>8</th>\n",
       "      <td>100000</td>\n",
       "      <td>home</td>\n",
       "      <td>home40692</td>\n",
       "      <td>542062</td>\n",
       "      <td>2689459.0</td>\n",
       "      <td>1255462.0</td>\n",
       "    </tr>\n",
       "    <tr>\n",
       "      <th>9</th>\n",
       "      <td>1000005</td>\n",
       "      <td>home</td>\n",
       "      <td>home422688</td>\n",
       "      <td>61971</td>\n",
       "      <td>2700184.0</td>\n",
       "      <td>1259308.0</td>\n",
       "    </tr>\n",
       "  </tbody>\n",
       "</table>\n",
       "</div>"
      ],
      "text/plain": [
       "        id       type    facility    link          x          y\n",
       "0   100000       home   home40692  542062  2689459.0  1255462.0\n",
       "1   100000  education      358532  184266  2689282.0  1255389.0\n",
       "2   100000       home   home40692  542062  2689459.0  1255462.0\n",
       "3   100000  education      484020  184266  2689282.0  1255389.0\n",
       "4   100000       home   home40692  542062  2689459.0  1255462.0\n",
       "5   100000       shop      601754  355392  2689600.0  1255500.0\n",
       "6   100000       home   home40692  542062  2689459.0  1255462.0\n",
       "7   100000       shop      125790  355330  2689674.0  1255464.0\n",
       "8   100000       home   home40692  542062  2689459.0  1255462.0\n",
       "9  1000005       home  home422688   61971  2700184.0  1259308.0"
      ]
     },
     "execution_count": 2,
     "metadata": {},
     "output_type": "execute_result"
    }
   ],
   "source": [
    "activities_df = pd.read_csv('../data/matsim_population_activities.csv')\n",
    "activities_df.head(10)"
   ]
  },
  {
   "cell_type": "markdown",
   "metadata": {},
   "source": [
    "Let's have a look at how many unique values each column contains:"
   ]
  },
  {
   "cell_type": "code",
   "execution_count": 3,
   "metadata": {},
   "outputs": [
    {
     "data": {
      "image/png": "[encoded data removed]",
      "text/plain": [
       "<Figure size 432x288 with 1 Axes>"
      ]
     },
     "metadata": {
      "needs_background": "light"
     },
     "output_type": "display_data"
    }
   ],
   "source": [
    "unique_values_counts = pd.Series({col: activities_df[col].drop_duplicates().shape[0] for col in activities_df.columns})\n",
    "sns.barplot(x=unique_values_counts.index, y=unique_values_counts.values, log=True)\n",
    "plt.title('Number of unique values')\n",
    "plt.show()"
   ]
  },
  {
   "cell_type": "markdown",
   "metadata": {},
   "source": [
    "## Who met who ?\n",
    "The problem is the following: given an individual $I\\in P$, can we efficiently find the set of all individuals $I$ has been in contact\n",
    "with during the day ?   \n",
    "\"Being in contact\" here means visiting a common facility at least once.\n",
    "\n",
    "The naive way to do this would be to obtain the list of all facilities $I$ visited, and then for all such facilities check for every other person\n",
    "whether they have visited it. However this obliges to browse the activities of every other individual, so the total complexity is $O(A)$  \n",
    "where $A$ is the number of total activities recorded. Now, we need to do this for every person in a sampled population (let's say at least 100000 people).\n",
    "Considering $A \\approx$ 10 million, this method isn't tractable.\n",
    "\n",
    "Another method is to use a *presence matrix*: a matrix $M$ of shape $(|P|, N_{facilities})$ such that for any individual $i$ and facility $f$, $M_{i,f} =$ 1 if $i$ visited $f$ and 0 otherwise. Given the number of people in the population and the number of unique facilities, we'd never store the full matrix in memory.\n",
    "However any person only visits a small number of facilities during the day (how many places do you visit in a single day ? Probably much fewer than a hundred). Thus $M$ is extremely **sparse** and can be efficiently stored using the CSR and CSC formats.  \n",
    "\n",
    "Once $M$ is created under *both* CSR and CSC formats, we can retrieve the list of the people an individual $i$ met in the following manner:\n",
    "* Retrieve the non-zero indices of row $i$ in the CSR matrix - those give which facilities $i$ visited.\n",
    "* For each facility f:\n",
    "* Retrieve the non-zero indices in col $f$ in the CSC matrix - those give which people visited $f$ during the day\n",
    "* Compile the list of all people indices retrieved as such.  \n",
    "\n",
    "Note that the final list will contain duplicates, and especially will include $i$ (since $i$ visited the same facilities as $i$..).  \n",
    "For a single individual, retrieving the list of all contacts in this way is done in **constant time** $O(1)$.\n",
    "\n",
    "**Remark**: the reason we use both CSR and CSC format is because we need to retrieve both rows and columns of the presence matrix. Each of those format allows to done one of those in constant time."
   ]
  },
  {
   "cell_type": "code",
   "execution_count": 4,
   "metadata": {},
   "outputs": [],
   "source": [
    "# We'll need to remove the rows in which the facility is null\n",
    "activities_df = activities_df[activities_df['facility'].notna()]"
   ]
  },
  {
   "cell_type": "code",
   "execution_count": 5,
   "metadata": {},
   "outputs": [],
   "source": [
    "# The facilities names are strings (such as 'home40692'), but the matrix indices\n",
    "# will be integers starting at 0.\n",
    "# Therefore we need to create an association between facility name and matrix\n",
    "# column indices. This association is stored in a dictionnary facilities_dict.\n",
    "unique_facilities = activities_df['facility'].drop_duplicates()\n",
    "facilities_dict = {facility: index for index, facility in enumerate(unique_facilities)}\n",
    "number_of_facilities = len(facilities_dict)"
   ]
  },
  {
   "cell_type": "code",
   "execution_count": 6,
   "metadata": {},
   "outputs": [],
   "source": [
    "# The people IDs are not strings but are not sorted and not continuous\n",
    "# (especially, they don't begin at 0). Thus we'll also create an association\n",
    "# person ID --> matrix row index\n",
    "unique_ids = activities_df['id'].drop_duplicates()\n",
    "ids_dict = {person_id: index for index, person_id in enumerate(unique_ids)}\n",
    "number_of_ids = len(ids_dict)"
   ]
  },
  {
   "cell_type": "code",
   "execution_count": 7,
   "metadata": {},
   "outputs": [],
   "source": [
    "# To create the sparse matrix, we need to rows and columns of each non-zero elements\n",
    "# This corresponds to obtaining the 'id' and 'facility' columns in the activities dataframe,\n",
    "# and replacing the names with the associated indexes.\n",
    "ids_indexes = np.array(activities_df['id'].apply(lambda person_id: ids_dict[person_id]))\n",
    "facility_indexes = np.array(activities_df['facility'].apply(lambda facility: facilities_dict[facility]))"
   ]
  },
  {
   "cell_type": "code",
   "execution_count": 8,
   "metadata": {},
   "outputs": [],
   "source": [
    "# Creates the sparse matrices with the same data but under different formats\n",
    "# See scipy's documentation for details\n",
    "presence_matrix_csc = sparse.csc_matrix((np.full(activities_df.shape[0], 1), (ids_indexes, facility_indexes)))\n",
    "presence_matrix_csr = sparse.csr_matrix(presence_matrix_csc)"
   ]
  },
  {
   "cell_type": "code",
   "execution_count": 9,
   "metadata": {},
   "outputs": [
    {
     "data": {
      "text/plain": [
       "(2100000, 1392168)"
      ]
     },
     "execution_count": 9,
     "metadata": {},
     "output_type": "execute_result"
    }
   ],
   "source": [
    "presence_matrix_csr.shape"
   ]
  },
  {
   "cell_type": "code",
   "execution_count": 10,
   "metadata": {},
   "outputs": [],
   "source": [
    "def find_contacts(person_id):\n",
    "    \"\"\"\n",
    "    Returns the IDs of all people a person met during\n",
    "    the day.\n",
    "    :person_id: int64, ID of the person who's contacts should be\n",
    "        retrieved.\n",
    "    :return: C, F where:\n",
    "        - C is the list of IDs of all contacts over a day\n",
    "        - F is the list of facility names at which each contact happened\n",
    "        For example, C=[10003] F=[\"home4095\"] means a single contact happened\n",
    "        with person 10,003, at facility \"home4095\".\n",
    "        The final list most likely contains duplicates and includes in the\n",
    "        contacts person_id themselves.\n",
    "    \"\"\"\n",
    "    # Retrieves the person's index in the presence matrix's\n",
    "    # rows\n",
    "    person_indx = ids_dict[person_id]\n",
    "    # Retrieves the indexes in the presence matrix's columns\n",
    "    # of the facilities the person visited\n",
    "    activ_indexes = presence_matrix_csr[person_indx].indices\n",
    "    \n",
    "    # Will contain the indexes of all contacts\n",
    "    contacts_indexes = []\n",
    "    # Will contain the indexes of the facilities at which the contacts happened\n",
    "    facilities_indxs = []\n",
    "    for activ_indx in activ_indexes:\n",
    "        # For each facility F\n",
    "        # Retrieves the indexes in the presence matrix's column\n",
    "        # corresponding to F\n",
    "        # of the people who were at F at least once\n",
    "        # during the day (i.e. non-zero elements of column F)\n",
    "        new_contacts = list(presence_matrix_csc[:, activ_indx].indices)\n",
    "        contacts_indexes += new_contacts\n",
    "        facilities_indxs += [activ_indx for _  in new_contacts]\n",
    "    return (np.array([unique_ids.iloc[indx] for indx in contacts_indexes]),\n",
    "            np.array([unique_facilities.iloc[indx] for indx in facilities_indxs]))"
   ]
  },
  {
   "cell_type": "markdown",
   "metadata": {},
   "source": [
    "## Building the contact matrix\n",
    "The first step is to obtain for a sample of the population the list of all contacts as well as where (in which facility) they took place."
   ]
  },
  {
   "cell_type": "code",
   "execution_count": 11,
   "metadata": {},
   "outputs": [],
   "source": [
    "sample_ids = activities_df['id'].sample(10000)"
   ]
  },
  {
   "cell_type": "code",
   "execution_count": 12,
   "metadata": {},
   "outputs": [],
   "source": [
    "all_contacts, all_facilities, all_ids = [], [], []\n",
    "for person_id in sample_ids:\n",
    "    contacts, facilities = find_contacts(person_id)\n",
    "    all_contacts.append(contacts)\n",
    "    all_facilities.append(facilities)\n",
    "    all_ids.append([person_id for _ in contacts])"
   ]
  },
  {
   "cell_type": "code",
   "execution_count": 13,
   "metadata": {},
   "outputs": [],
   "source": [
    "contact_dataframe = pd.DataFrame({'id': np.concatenate(all_ids),\n",
    "                                  'contact_id': np.concatenate(all_contacts),\n",
    "                                  'facility': np.concatenate(all_facilities)})"
   ]
  },
  {
   "cell_type": "code",
   "execution_count": 14,
   "metadata": {},
   "outputs": [
    {
     "data": {
      "text/html": [
       "<div>\n",
       "<style scoped>\n",
       "    .dataframe tbody tr th:only-of-type {\n",
       "        vertical-align: middle;\n",
       "    }\n",
       "\n",
       "    .dataframe tbody tr th {\n",
       "        vertical-align: top;\n",
       "    }\n",
       "\n",
       "    .dataframe thead th {\n",
       "        text-align: right;\n",
       "    }\n",
       "</style>\n",
       "<table border=\"1\" class=\"dataframe\">\n",
       "  <thead>\n",
       "    <tr style=\"text-align: right;\">\n",
       "      <th></th>\n",
       "      <th>id</th>\n",
       "      <th>contact_id</th>\n",
       "      <th>facility</th>\n",
       "    </tr>\n",
       "  </thead>\n",
       "  <tbody>\n",
       "    <tr>\n",
       "      <th>0</th>\n",
       "      <td>7589166</td>\n",
       "      <td>5920088</td>\n",
       "      <td>306134</td>\n",
       "    </tr>\n",
       "    <tr>\n",
       "      <th>1</th>\n",
       "      <td>7589166</td>\n",
       "      <td>7587790</td>\n",
       "      <td>306134</td>\n",
       "    </tr>\n",
       "    <tr>\n",
       "      <th>2</th>\n",
       "      <td>7589166</td>\n",
       "      <td>7588846</td>\n",
       "      <td>306134</td>\n",
       "    </tr>\n",
       "    <tr>\n",
       "      <th>3</th>\n",
       "      <td>7589166</td>\n",
       "      <td>7588996</td>\n",
       "      <td>306134</td>\n",
       "    </tr>\n",
       "    <tr>\n",
       "      <th>4</th>\n",
       "      <td>7589166</td>\n",
       "      <td>7589166</td>\n",
       "      <td>306134</td>\n",
       "    </tr>\n",
       "    <tr>\n",
       "      <th>...</th>\n",
       "      <td>...</td>\n",
       "      <td>...</td>\n",
       "      <td>...</td>\n",
       "    </tr>\n",
       "    <tr>\n",
       "      <th>1464590</th>\n",
       "      <td>8378139</td>\n",
       "      <td>8373556</td>\n",
       "      <td>378340</td>\n",
       "    </tr>\n",
       "    <tr>\n",
       "      <th>1464591</th>\n",
       "      <td>8378139</td>\n",
       "      <td>8375057</td>\n",
       "      <td>378340</td>\n",
       "    </tr>\n",
       "    <tr>\n",
       "      <th>1464592</th>\n",
       "      <td>8378139</td>\n",
       "      <td>8375327</td>\n",
       "      <td>378340</td>\n",
       "    </tr>\n",
       "    <tr>\n",
       "      <th>1464593</th>\n",
       "      <td>8378139</td>\n",
       "      <td>8375759</td>\n",
       "      <td>378340</td>\n",
       "    </tr>\n",
       "    <tr>\n",
       "      <th>1464594</th>\n",
       "      <td>8378139</td>\n",
       "      <td>8376039</td>\n",
       "      <td>378340</td>\n",
       "    </tr>\n",
       "  </tbody>\n",
       "</table>\n",
       "<p>1464595 rows × 3 columns</p>\n",
       "</div>"
      ],
      "text/plain": [
       "              id  contact_id facility\n",
       "0        7589166     5920088   306134\n",
       "1        7589166     7587790   306134\n",
       "2        7589166     7588846   306134\n",
       "3        7589166     7588996   306134\n",
       "4        7589166     7589166   306134\n",
       "...          ...         ...      ...\n",
       "1464590  8378139     8373556   378340\n",
       "1464591  8378139     8375057   378340\n",
       "1464592  8378139     8375327   378340\n",
       "1464593  8378139     8375759   378340\n",
       "1464594  8378139     8376039   378340\n",
       "\n",
       "[1464595 rows x 3 columns]"
      ]
     },
     "execution_count": 14,
     "metadata": {},
     "output_type": "execute_result"
    }
   ],
   "source": [
    "contact_dataframe.iloc[:-20]"
   ]
  },
  {
   "cell_type": "markdown",
   "metadata": {},
   "source": [
    "What we wanna do now is:\n",
    "* Replace the contact ids with the age of the contacts\n",
    "* Replace the facility names with their activity types  \n",
    "\n",
    "While each person has a unique age, facilities might be of multiple types."
   ]
  },
  {
   "cell_type": "markdown",
   "metadata": {},
   "source": [
    "### Fetching the activity types"
   ]
  },
  {
   "cell_type": "code",
   "execution_count": 15,
   "metadata": {},
   "outputs": [],
   "source": [
    "facilities_types = activities_df[['facility', 'type']]"
   ]
  },
  {
   "cell_type": "code",
   "execution_count": 16,
   "metadata": {},
   "outputs": [
    {
     "data": {
      "text/plain": [
       "array([[<AxesSubplot:title={'center':'type'}>]], dtype=object)"
      ]
     },
     "execution_count": 16,
     "metadata": {},
     "output_type": "execute_result"
    },
    {
     "data": {
      "image/png": "[encoded data removed]",
      "text/plain": [
       "<Figure size 432x288 with 1 Axes>"
      ]
     },
     "metadata": {
      "needs_background": "light"
     },
     "output_type": "display_data"
    }
   ],
   "source": [
    "nb_types = facilities_types.drop_duplicates().groupby('facility').count()\n",
    "nb_types.hist()"
   ]
  },
  {
   "cell_type": "markdown",
   "metadata": {},
   "source": [
    "Some facilities (about 200,000) are counted into 2 or 3 types.  \n",
    "For facilities that are counted multiple times, we'll chose the types in which they are most often represented. For example, if the facility is a school listed in 3 activities, once as 'work' (by a teacher) and twice as 'education' (by students) then the facility will **always** be considered as \"education\".  \n",
    "This reasoning creates a proportion of mistakes, such as teachers going to school for an \"educational\" activity. Nonetheless this method has the advantage of being possible to do in practice regarding computation time."
   ]
  },
  {
   "cell_type": "code",
   "execution_count": 17,
   "metadata": {},
   "outputs": [
    {
     "data": {
      "text/html": [
       "<div>\n",
       "<style scoped>\n",
       "    .dataframe tbody tr th:only-of-type {\n",
       "        vertical-align: middle;\n",
       "    }\n",
       "\n",
       "    .dataframe tbody tr th {\n",
       "        vertical-align: top;\n",
       "    }\n",
       "\n",
       "    .dataframe thead th {\n",
       "        text-align: right;\n",
       "    }\n",
       "</style>\n",
       "<table border=\"1\" class=\"dataframe\">\n",
       "  <thead>\n",
       "    <tr style=\"text-align: right;\">\n",
       "      <th></th>\n",
       "      <th>facility</th>\n",
       "      <th>type</th>\n",
       "      <th>0</th>\n",
       "    </tr>\n",
       "  </thead>\n",
       "  <tbody>\n",
       "    <tr>\n",
       "      <th>627784</th>\n",
       "      <td>home999999</td>\n",
       "      <td>home</td>\n",
       "      <td>5</td>\n",
       "    </tr>\n",
       "    <tr>\n",
       "      <th>711581</th>\n",
       "      <td>home999995</td>\n",
       "      <td>home</td>\n",
       "      <td>4</td>\n",
       "    </tr>\n",
       "    <tr>\n",
       "      <th>1115314</th>\n",
       "      <td>home999989</td>\n",
       "      <td>home</td>\n",
       "      <td>2</td>\n",
       "    </tr>\n",
       "    <tr>\n",
       "      <th>433814</th>\n",
       "      <td>home999987</td>\n",
       "      <td>home</td>\n",
       "      <td>6</td>\n",
       "    </tr>\n",
       "    <tr>\n",
       "      <th>711583</th>\n",
       "      <td>home999986</td>\n",
       "      <td>home</td>\n",
       "      <td>4</td>\n",
       "    </tr>\n",
       "  </tbody>\n",
       "</table>\n",
       "</div>"
      ],
      "text/plain": [
       "           facility  type  0\n",
       "627784   home999999  home  5\n",
       "711581   home999995  home  4\n",
       "1115314  home999989  home  2\n",
       "433814   home999987  home  6\n",
       "711583   home999986  home  4"
      ]
     },
     "execution_count": 17,
     "metadata": {},
     "output_type": "execute_result"
    }
   ],
   "source": [
    "# Counts the occurences of each (facility, activity type) pair in the activities,\n",
    "# and sort them by facility and then by type count\n",
    "fac_types_counts = facilities_types.value_counts().reset_index().sort_values(['facility', 0], ascending=False)\n",
    "fac_types_counts.head()"
   ]
  },
  {
   "cell_type": "code",
   "execution_count": 18,
   "metadata": {},
   "outputs": [
    {
     "data": {
      "text/html": [
       "<div>\n",
       "<style scoped>\n",
       "    .dataframe tbody tr th:only-of-type {\n",
       "        vertical-align: middle;\n",
       "    }\n",
       "\n",
       "    .dataframe tbody tr th {\n",
       "        vertical-align: top;\n",
       "    }\n",
       "\n",
       "    .dataframe thead th {\n",
       "        text-align: right;\n",
       "    }\n",
       "</style>\n",
       "<table border=\"1\" class=\"dataframe\">\n",
       "  <thead>\n",
       "    <tr style=\"text-align: right;\">\n",
       "      <th></th>\n",
       "      <th>type</th>\n",
       "    </tr>\n",
       "    <tr>\n",
       "      <th>facility</th>\n",
       "      <th></th>\n",
       "    </tr>\n",
       "  </thead>\n",
       "  <tbody>\n",
       "    <tr>\n",
       "      <th>1</th>\n",
       "      <td>service</td>\n",
       "    </tr>\n",
       "    <tr>\n",
       "      <th>10</th>\n",
       "      <td>service</td>\n",
       "    </tr>\n",
       "    <tr>\n",
       "      <th>100</th>\n",
       "      <td>service</td>\n",
       "    </tr>\n",
       "    <tr>\n",
       "      <th>1000</th>\n",
       "      <td>work</td>\n",
       "    </tr>\n",
       "    <tr>\n",
       "      <th>10000</th>\n",
       "      <td>service</td>\n",
       "    </tr>\n",
       "  </tbody>\n",
       "</table>\n",
       "</div>"
      ],
      "text/plain": [
       "             type\n",
       "facility         \n",
       "1         service\n",
       "10        service\n",
       "100       service\n",
       "1000         work\n",
       "10000     service"
      ]
     },
     "execution_count": 18,
     "metadata": {},
     "output_type": "execute_result"
    }
   ],
   "source": [
    "# For facility, selects the pair (facility, type) that occurs most times\n",
    "final_fac_types = fac_types_counts.groupby('facility').first().reset_index()[['facility', 'type']].set_index('facility')\n",
    "final_fac_types.head()"
   ]
  },
  {
   "cell_type": "code",
   "execution_count": 19,
   "metadata": {},
   "outputs": [
    {
     "data": {
      "text/html": [
       "<div>\n",
       "<style scoped>\n",
       "    .dataframe tbody tr th:only-of-type {\n",
       "        vertical-align: middle;\n",
       "    }\n",
       "\n",
       "    .dataframe tbody tr th {\n",
       "        vertical-align: top;\n",
       "    }\n",
       "\n",
       "    .dataframe thead th {\n",
       "        text-align: right;\n",
       "    }\n",
       "</style>\n",
       "<table border=\"1\" class=\"dataframe\">\n",
       "  <thead>\n",
       "    <tr style=\"text-align: right;\">\n",
       "      <th></th>\n",
       "      <th>id</th>\n",
       "      <th>contact_id</th>\n",
       "      <th>facility</th>\n",
       "      <th>type</th>\n",
       "    </tr>\n",
       "  </thead>\n",
       "  <tbody>\n",
       "    <tr>\n",
       "      <th>177521</th>\n",
       "      <td>7939328</td>\n",
       "      <td>8021225</td>\n",
       "      <td>391696</td>\n",
       "      <td>leisure</td>\n",
       "    </tr>\n",
       "    <tr>\n",
       "      <th>1388064</th>\n",
       "      <td>2122610</td>\n",
       "      <td>5534416</td>\n",
       "      <td>575339</td>\n",
       "      <td>leisure</td>\n",
       "    </tr>\n",
       "    <tr>\n",
       "      <th>872184</th>\n",
       "      <td>6449871</td>\n",
       "      <td>6344704</td>\n",
       "      <td>97970</td>\n",
       "      <td>work</td>\n",
       "    </tr>\n",
       "    <tr>\n",
       "      <th>1099758</th>\n",
       "      <td>5415952</td>\n",
       "      <td>5413089</td>\n",
       "      <td>394102</td>\n",
       "      <td>leisure</td>\n",
       "    </tr>\n",
       "    <tr>\n",
       "      <th>222317</th>\n",
       "      <td>1693723</td>\n",
       "      <td>1688874</td>\n",
       "      <td>225328</td>\n",
       "      <td>leisure</td>\n",
       "    </tr>\n",
       "    <tr>\n",
       "      <th>769037</th>\n",
       "      <td>6978882</td>\n",
       "      <td>7071610</td>\n",
       "      <td>86225</td>\n",
       "      <td>work</td>\n",
       "    </tr>\n",
       "    <tr>\n",
       "      <th>1375591</th>\n",
       "      <td>4718304</td>\n",
       "      <td>4744360</td>\n",
       "      <td>373068</td>\n",
       "      <td>leisure</td>\n",
       "    </tr>\n",
       "    <tr>\n",
       "      <th>997500</th>\n",
       "      <td>5135677</td>\n",
       "      <td>6689191</td>\n",
       "      <td>375702</td>\n",
       "      <td>education</td>\n",
       "    </tr>\n",
       "    <tr>\n",
       "      <th>1327731</th>\n",
       "      <td>4890404</td>\n",
       "      <td>6586461</td>\n",
       "      <td>514950</td>\n",
       "      <td>work</td>\n",
       "    </tr>\n",
       "    <tr>\n",
       "      <th>1408203</th>\n",
       "      <td>7898793</td>\n",
       "      <td>6238052</td>\n",
       "      <td>105484</td>\n",
       "      <td>service</td>\n",
       "    </tr>\n",
       "  </tbody>\n",
       "</table>\n",
       "</div>"
      ],
      "text/plain": [
       "              id  contact_id facility       type\n",
       "177521   7939328     8021225   391696    leisure\n",
       "1388064  2122610     5534416   575339    leisure\n",
       "872184   6449871     6344704    97970       work\n",
       "1099758  5415952     5413089   394102    leisure\n",
       "222317   1693723     1688874   225328    leisure\n",
       "769037   6978882     7071610    86225       work\n",
       "1375591  4718304     4744360   373068    leisure\n",
       "997500   5135677     6689191   375702  education\n",
       "1327731  4890404     6586461   514950       work\n",
       "1408203  7898793     6238052   105484    service"
      ]
     },
     "execution_count": 19,
     "metadata": {},
     "output_type": "execute_result"
    }
   ],
   "source": [
    "# For each activity in the contacts dataframe, fetches the facility type based on the previous\n",
    "# result\n",
    "contact_dataframe = contact_dataframe.merge(final_fac_types, left_on='facility', right_index=True)\n",
    "contact_dataframe.sample(10)"
   ]
  },
  {
   "cell_type": "markdown",
   "metadata": {},
   "source": [
    "### Fetching the contact's age\n",
    "All we need now to obtain the contact matrices is to retrieve the age of each contact in the contacts df."
   ]
  },
  {
   "cell_type": "code",
   "execution_count": 21,
   "metadata": {},
   "outputs": [
    {
     "data": {
      "text/html": [
       "<div>\n",
       "<style scoped>\n",
       "    .dataframe tbody tr th:only-of-type {\n",
       "        vertical-align: middle;\n",
       "    }\n",
       "\n",
       "    .dataframe tbody tr th {\n",
       "        vertical-align: top;\n",
       "    }\n",
       "\n",
       "    .dataframe thead th {\n",
       "        text-align: right;\n",
       "    }\n",
       "</style>\n",
       "<table border=\"1\" class=\"dataframe\">\n",
       "  <thead>\n",
       "    <tr style=\"text-align: right;\">\n",
       "      <th></th>\n",
       "      <th>id</th>\n",
       "      <th>age</th>\n",
       "      <th>bikeAvailability</th>\n",
       "      <th>carAvail</th>\n",
       "      <th>employed</th>\n",
       "      <th>hasLicense</th>\n",
       "      <th>home_x</th>\n",
       "      <th>home_y</th>\n",
       "      <th>householdIncome</th>\n",
       "      <th>isCarPassenger</th>\n",
       "      <th>municipalityType</th>\n",
       "      <th>ptHasGA</th>\n",
       "      <th>ptHasHalbtax</th>\n",
       "      <th>ptHasStrecke</th>\n",
       "      <th>ptHasVerbund</th>\n",
       "      <th>sex</th>\n",
       "      <th>spRegion</th>\n",
       "    </tr>\n",
       "  </thead>\n",
       "  <tbody>\n",
       "    <tr>\n",
       "      <th>0</th>\n",
       "      <td>100000</td>\n",
       "      <td>8</td>\n",
       "      <td>FOR_NONE</td>\n",
       "      <td>never</td>\n",
       "      <td>False</td>\n",
       "      <td>no</td>\n",
       "      <td>2689459.0</td>\n",
       "      <td>1255462.0</td>\n",
       "      <td>12000.0</td>\n",
       "      <td>True</td>\n",
       "      <td>urban</td>\n",
       "      <td>False</td>\n",
       "      <td>False</td>\n",
       "      <td>False</td>\n",
       "      <td>False</td>\n",
       "      <td>m</td>\n",
       "      <td>1.0</td>\n",
       "    </tr>\n",
       "    <tr>\n",
       "      <th>1</th>\n",
       "      <td>1000005</td>\n",
       "      <td>26</td>\n",
       "      <td>FOR_ALL</td>\n",
       "      <td>always</td>\n",
       "      <td>True</td>\n",
       "      <td>yes</td>\n",
       "      <td>2700184.0</td>\n",
       "      <td>1259308.0</td>\n",
       "      <td>4000.0</td>\n",
       "      <td>False</td>\n",
       "      <td>urban</td>\n",
       "      <td>False</td>\n",
       "      <td>True</td>\n",
       "      <td>False</td>\n",
       "      <td>False</td>\n",
       "      <td>f</td>\n",
       "      <td>1.0</td>\n",
       "    </tr>\n",
       "    <tr>\n",
       "      <th>2</th>\n",
       "      <td>1000006</td>\n",
       "      <td>45</td>\n",
       "      <td>FOR_ALL</td>\n",
       "      <td>always</td>\n",
       "      <td>True</td>\n",
       "      <td>yes</td>\n",
       "      <td>2699870.0</td>\n",
       "      <td>1264044.0</td>\n",
       "      <td>6000.0</td>\n",
       "      <td>False</td>\n",
       "      <td>urban</td>\n",
       "      <td>False</td>\n",
       "      <td>False</td>\n",
       "      <td>False</td>\n",
       "      <td>False</td>\n",
       "      <td>m</td>\n",
       "      <td>1.0</td>\n",
       "    </tr>\n",
       "    <tr>\n",
       "      <th>3</th>\n",
       "      <td>1000008</td>\n",
       "      <td>34</td>\n",
       "      <td>FOR_ALL</td>\n",
       "      <td>sometimes</td>\n",
       "      <td>True</td>\n",
       "      <td>yes</td>\n",
       "      <td>2695872.0</td>\n",
       "      <td>1260766.0</td>\n",
       "      <td>12000.0</td>\n",
       "      <td>False</td>\n",
       "      <td>urban</td>\n",
       "      <td>False</td>\n",
       "      <td>False</td>\n",
       "      <td>False</td>\n",
       "      <td>True</td>\n",
       "      <td>m</td>\n",
       "      <td>1.0</td>\n",
       "    </tr>\n",
       "    <tr>\n",
       "      <th>4</th>\n",
       "      <td>100001</td>\n",
       "      <td>46</td>\n",
       "      <td>FOR_NONE</td>\n",
       "      <td>always</td>\n",
       "      <td>True</td>\n",
       "      <td>yes</td>\n",
       "      <td>2689459.0</td>\n",
       "      <td>1255462.0</td>\n",
       "      <td>12000.0</td>\n",
       "      <td>False</td>\n",
       "      <td>urban</td>\n",
       "      <td>False</td>\n",
       "      <td>False</td>\n",
       "      <td>False</td>\n",
       "      <td>False</td>\n",
       "      <td>f</td>\n",
       "      <td>1.0</td>\n",
       "    </tr>\n",
       "  </tbody>\n",
       "</table>\n",
       "</div>"
      ],
      "text/plain": [
       "        id  age bikeAvailability   carAvail  employed hasLicense     home_x  \\\n",
       "0   100000    8         FOR_NONE      never     False         no  2689459.0   \n",
       "1  1000005   26          FOR_ALL     always      True        yes  2700184.0   \n",
       "2  1000006   45          FOR_ALL     always      True        yes  2699870.0   \n",
       "3  1000008   34          FOR_ALL  sometimes      True        yes  2695872.0   \n",
       "4   100001   46         FOR_NONE     always      True        yes  2689459.0   \n",
       "\n",
       "      home_y  householdIncome  isCarPassenger municipalityType  ptHasGA  \\\n",
       "0  1255462.0          12000.0            True            urban    False   \n",
       "1  1259308.0           4000.0           False            urban    False   \n",
       "2  1264044.0           6000.0           False            urban    False   \n",
       "3  1260766.0          12000.0           False            urban    False   \n",
       "4  1255462.0          12000.0           False            urban    False   \n",
       "\n",
       "   ptHasHalbtax  ptHasStrecke  ptHasVerbund sex  spRegion  \n",
       "0         False         False         False   m       1.0  \n",
       "1          True         False         False   f       1.0  \n",
       "2         False         False         False   m       1.0  \n",
       "3         False         False          True   m       1.0  \n",
       "4         False         False         False   f       1.0  "
      ]
     },
     "execution_count": 21,
     "metadata": {},
     "output_type": "execute_result"
    }
   ],
   "source": [
    "population_data = pd.read_csv('../data/matsim_population_attributes.csv')\n",
    "population_data.head()"
   ]
  },
  {
   "cell_type": "code",
   "execution_count": 25,
   "metadata": {},
   "outputs": [
    {
     "data": {
      "text/plain": [
       "True"
      ]
     },
     "execution_count": 25,
     "metadata": {},
     "output_type": "execute_result"
    }
   ],
   "source": [
    "# Fetches the id-age association\n",
    "id_age_df = population_data[['id', 'age']].drop_duplicates().set_index('id')\n",
    "id_age_df.index.is_unique"
   ]
  },
  {
   "cell_type": "code",
   "execution_count": 26,
   "metadata": {},
   "outputs": [
    {
     "data": {
      "text/html": [
       "<div>\n",
       "<style scoped>\n",
       "    .dataframe tbody tr th:only-of-type {\n",
       "        vertical-align: middle;\n",
       "    }\n",
       "\n",
       "    .dataframe tbody tr th {\n",
       "        vertical-align: top;\n",
       "    }\n",
       "\n",
       "    .dataframe thead th {\n",
       "        text-align: right;\n",
       "    }\n",
       "</style>\n",
       "<table border=\"1\" class=\"dataframe\">\n",
       "  <thead>\n",
       "    <tr style=\"text-align: right;\">\n",
       "      <th></th>\n",
       "      <th>id</th>\n",
       "      <th>contact_id</th>\n",
       "      <th>facility</th>\n",
       "      <th>type</th>\n",
       "      <th>age</th>\n",
       "    </tr>\n",
       "  </thead>\n",
       "  <tbody>\n",
       "    <tr>\n",
       "      <th>278363</th>\n",
       "      <td>3832718</td>\n",
       "      <td>3832718</td>\n",
       "      <td>23913</td>\n",
       "      <td>service</td>\n",
       "      <td>35</td>\n",
       "    </tr>\n",
       "    <tr>\n",
       "      <th>207340</th>\n",
       "      <td>5396521</td>\n",
       "      <td>5281281</td>\n",
       "      <td>167075</td>\n",
       "      <td>shop</td>\n",
       "      <td>33</td>\n",
       "    </tr>\n",
       "    <tr>\n",
       "      <th>374748</th>\n",
       "      <td>4941949</td>\n",
       "      <td>4941398</td>\n",
       "      <td>363998</td>\n",
       "      <td>leisure</td>\n",
       "      <td>53</td>\n",
       "    </tr>\n",
       "    <tr>\n",
       "      <th>724555</th>\n",
       "      <td>4453439</td>\n",
       "      <td>4427444</td>\n",
       "      <td>461645</td>\n",
       "      <td>leisure</td>\n",
       "      <td>33</td>\n",
       "    </tr>\n",
       "    <tr>\n",
       "      <th>1303286</th>\n",
       "      <td>2962518</td>\n",
       "      <td>2962579</td>\n",
       "      <td>4533</td>\n",
       "      <td>education</td>\n",
       "      <td>11</td>\n",
       "    </tr>\n",
       "    <tr>\n",
       "      <th>286449</th>\n",
       "      <td>510685</td>\n",
       "      <td>7080432</td>\n",
       "      <td>99490</td>\n",
       "      <td>work</td>\n",
       "      <td>26</td>\n",
       "    </tr>\n",
       "    <tr>\n",
       "      <th>715370</th>\n",
       "      <td>6662937</td>\n",
       "      <td>6673074</td>\n",
       "      <td>6193</td>\n",
       "      <td>leisure</td>\n",
       "      <td>25</td>\n",
       "    </tr>\n",
       "    <tr>\n",
       "      <th>41023</th>\n",
       "      <td>3160712</td>\n",
       "      <td>1579807</td>\n",
       "      <td>422225</td>\n",
       "      <td>education</td>\n",
       "      <td>39</td>\n",
       "    </tr>\n",
       "    <tr>\n",
       "      <th>318334</th>\n",
       "      <td>6151550</td>\n",
       "      <td>4945096</td>\n",
       "      <td>441785</td>\n",
       "      <td>work</td>\n",
       "      <td>54</td>\n",
       "    </tr>\n",
       "    <tr>\n",
       "      <th>1096420</th>\n",
       "      <td>5436217</td>\n",
       "      <td>2098902</td>\n",
       "      <td>482861</td>\n",
       "      <td>education</td>\n",
       "      <td>22</td>\n",
       "    </tr>\n",
       "  </tbody>\n",
       "</table>\n",
       "</div>"
      ],
      "text/plain": [
       "              id  contact_id facility       type  age\n",
       "278363   3832718     3832718    23913    service   35\n",
       "207340   5396521     5281281   167075       shop   33\n",
       "374748   4941949     4941398   363998    leisure   53\n",
       "724555   4453439     4427444   461645    leisure   33\n",
       "1303286  2962518     2962579     4533  education   11\n",
       "286449    510685     7080432    99490       work   26\n",
       "715370   6662937     6673074     6193    leisure   25\n",
       "41023    3160712     1579807   422225  education   39\n",
       "318334   6151550     4945096   441785       work   54\n",
       "1096420  5436217     2098902   482861  education   22"
      ]
     },
     "execution_count": 26,
     "metadata": {},
     "output_type": "execute_result"
    }
   ],
   "source": [
    "contact_dataframe = contact_dataframe.merge(id_age_df, left_on='id', right_index=True)\n",
    "contact_dataframe.sample(10)"
   ]
  },
  {
   "cell_type": "markdown",
   "metadata": {},
   "source": [
    "### Some stats\n",
    "Distribution of the number of total contacts:"
   ]
  },
  {
   "cell_type": "code",
   "execution_count": 50,
   "metadata": {},
   "outputs": [
    {
     "data": {
      "text/plain": [
       "Text(0.5, 0, 'Number of contacts')"
      ]
     },
     "execution_count": 50,
     "metadata": {},
     "output_type": "execute_result"
    },
    {
     "data": {
      "image/png": "[encoded data removed]",
      "text/plain": [
       "<Figure size 864x504 with 2 Axes>"
      ]
     },
     "metadata": {
      "needs_background": "light"
     },
     "output_type": "display_data"
    }
   ],
   "source": [
    "fig, ax = plt.subplots(nrows=1, ncols=2, figsize=(12, 7))\n",
    "nb_contacts = contact_dataframe.groupby('id').count()['contact_id']\n",
    "ax[0].hist(nb_contacts, bins=100)\n",
    "ax[0].set_xlabel(\"Number of contacts\")\n",
    "ax[0].set_ylabel(\"Frequency\")\n",
    "ax[1].hist(nb_contacts, bins=100, log=True)\n",
    "ax[1].set_ylabel(\"Log(frequency)\")\n",
    "ax[1].set_xlabel(\"Number of contacts\")"
   ]
  },
  {
   "cell_type": "markdown",
   "metadata": {},
   "source": [
    "The number of contacts seems to follow a power law: most people only meet around a few hundred people per day, while some meet up to more than 2000."
   ]
  },
  {
   "cell_type": "markdown",
   "metadata": {},
   "source": [
    "### Contact matrix for a single indiv"
   ]
  },
  {
   "cell_type": "code",
   "execution_count": 27,
   "metadata": {},
   "outputs": [],
   "source": [
    "def total_contacts(person_id):\n",
    "    return contact_dataframe[contact_dataframe['id'] == person_id].shape[0]"
   ]
  },
  {
   "cell_type": "code",
   "execution_count": 30,
   "metadata": {},
   "outputs": [
    {
     "data": {
      "text/plain": [
       "597"
      ]
     },
     "execution_count": 30,
     "metadata": {},
     "output_type": "execute_result"
    }
   ],
   "source": [
    "total_contacts(510685)"
   ]
  }
 ],
 "metadata": {
  "kernelspec": {
   "display_name": "Python 3",
   "language": "python",
   "name": "python3"
  },
  "language_info": {
   "codemirror_mode": {
    "name": "ipython",
    "version": 3
   },
   "file_extension": ".py",
   "mimetype": "text/x-python",
   "name": "python",
   "nbconvert_exporter": "python",
   "pygments_lexer": "ipython3",
   "version": "3.8.5"
  }
 },
 "nbformat": 4,
 "nbformat_minor": 4
}
